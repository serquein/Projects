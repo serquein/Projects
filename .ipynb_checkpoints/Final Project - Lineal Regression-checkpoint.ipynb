{
 "cells": [
  {
   "cell_type": "markdown",
   "id": "78187b99",
   "metadata": {},
   "source": [
    "## What are the variables that have the greatest influence on math grades?\n",
    "## Is it possible to predict student grades based on these variables?"
   ]
  },
  {
   "cell_type": "code",
   "execution_count": 2,
   "id": "2fcea72d",
   "metadata": {},
   "outputs": [],
   "source": [
    "import pandas as pd\n",
    "df = pd.read_csv(\"Expanded_data_with_more_features.csv\")"
   ]
  },
  {
   "cell_type": "code",
   "execution_count": 3,
   "id": "506bf2d8",
   "metadata": {},
   "outputs": [
    {
     "data": {
      "text/plain": [
       "Unnamed: 0               int64\n",
       "Gender                  object\n",
       "EthnicGroup             object\n",
       "ParentEduc              object\n",
       "LunchType               object\n",
       "TestPrep                object\n",
       "ParentMaritalStatus     object\n",
       "PracticeSport           object\n",
       "IsFirstChild            object\n",
       "NrSiblings             float64\n",
       "TransportMeans          object\n",
       "WklyStudyHours          object\n",
       "MathScore                int64\n",
       "ReadingScore             int64\n",
       "WritingScore             int64\n",
       "dtype: object"
      ]
     },
     "execution_count": 3,
     "metadata": {},
     "output_type": "execute_result"
    }
   ],
   "source": [
    "df.dtypes"
   ]
  },
  {
   "cell_type": "markdown",
   "id": "81a23d0e",
   "metadata": {},
   "source": [
    "# Data Cleaning"
   ]
  },
  {
   "cell_type": "code",
   "execution_count": 4,
   "id": "8ad5098f",
   "metadata": {},
   "outputs": [
    {
     "data": {
      "text/plain": [
       "Unnamed: 0                0\n",
       "Gender                    0\n",
       "EthnicGroup            1840\n",
       "ParentEduc             1845\n",
       "LunchType                 0\n",
       "TestPrep               1830\n",
       "ParentMaritalStatus    1190\n",
       "PracticeSport           631\n",
       "IsFirstChild            904\n",
       "NrSiblings             1572\n",
       "TransportMeans         3134\n",
       "WklyStudyHours          955\n",
       "MathScore                 0\n",
       "ReadingScore              0\n",
       "WritingScore              0\n",
       "dtype: int64"
      ]
     },
     "execution_count": 4,
     "metadata": {},
     "output_type": "execute_result"
    }
   ],
   "source": [
    "df.isna().sum()"
   ]
  },
  {
   "cell_type": "markdown",
   "id": "01e15bf7",
   "metadata": {},
   "source": [
    "## Drop Columns"
   ]
  },
  {
   "cell_type": "code",
   "execution_count": 5,
   "id": "ed084fe2",
   "metadata": {},
   "outputs": [],
   "source": [
    "df = df.drop(\"Unnamed: 0\", axis=1)"
   ]
  },
  {
   "cell_type": "markdown",
   "id": "56fb2fd9",
   "metadata": {},
   "source": [
    "## Drop NaNs"
   ]
  },
  {
   "cell_type": "code",
   "execution_count": 6,
   "id": "f597b422",
   "metadata": {},
   "outputs": [],
   "source": [
    "cols_to_drop = [\"EthnicGroup\",\"ParentEduc\",\"TestPrep\",\"ParentMaritalStatus\",\"PracticeSport\", \"IsFirstChild\",\"NrSiblings\",\"TransportMeans\",\"WklyStudyHours\"]\n",
    "df = df.dropna(subset=cols_to_drop, axis=0)"
   ]
  },
  {
   "cell_type": "code",
   "execution_count": 7,
   "id": "91dcfe88",
   "metadata": {},
   "outputs": [
    {
     "data": {
      "text/plain": [
       "Gender                 0\n",
       "EthnicGroup            0\n",
       "ParentEduc             0\n",
       "LunchType              0\n",
       "TestPrep               0\n",
       "ParentMaritalStatus    0\n",
       "PracticeSport          0\n",
       "IsFirstChild           0\n",
       "NrSiblings             0\n",
       "TransportMeans         0\n",
       "WklyStudyHours         0\n",
       "MathScore              0\n",
       "ReadingScore           0\n",
       "WritingScore           0\n",
       "dtype: int64"
      ]
     },
     "execution_count": 7,
     "metadata": {},
     "output_type": "execute_result"
    }
   ],
   "source": [
    "df.isna().sum()"
   ]
  },
  {
   "cell_type": "code",
   "execution_count": 8,
   "id": "6e50fd7f",
   "metadata": {},
   "outputs": [
    {
     "data": {
      "text/html": [
       "<div>\n",
       "<style scoped>\n",
       "    .dataframe tbody tr th:only-of-type {\n",
       "        vertical-align: middle;\n",
       "    }\n",
       "\n",
       "    .dataframe tbody tr th {\n",
       "        vertical-align: top;\n",
       "    }\n",
       "\n",
       "    .dataframe thead th {\n",
       "        text-align: right;\n",
       "    }\n",
       "</style>\n",
       "<table border=\"1\" class=\"dataframe\">\n",
       "  <thead>\n",
       "    <tr style=\"text-align: right;\">\n",
       "      <th></th>\n",
       "      <th>Gender</th>\n",
       "      <th>EthnicGroup</th>\n",
       "      <th>ParentEduc</th>\n",
       "      <th>LunchType</th>\n",
       "      <th>TestPrep</th>\n",
       "      <th>ParentMaritalStatus</th>\n",
       "      <th>PracticeSport</th>\n",
       "      <th>IsFirstChild</th>\n",
       "      <th>NrSiblings</th>\n",
       "      <th>TransportMeans</th>\n",
       "      <th>WklyStudyHours</th>\n",
       "      <th>MathScore</th>\n",
       "      <th>ReadingScore</th>\n",
       "      <th>WritingScore</th>\n",
       "    </tr>\n",
       "  </thead>\n",
       "  <tbody>\n",
       "    <tr>\n",
       "      <th>2</th>\n",
       "      <td>female</td>\n",
       "      <td>group B</td>\n",
       "      <td>master's degree</td>\n",
       "      <td>standard</td>\n",
       "      <td>none</td>\n",
       "      <td>single</td>\n",
       "      <td>sometimes</td>\n",
       "      <td>yes</td>\n",
       "      <td>4.0</td>\n",
       "      <td>school_bus</td>\n",
       "      <td>&lt; 5</td>\n",
       "      <td>87</td>\n",
       "      <td>93</td>\n",
       "      <td>91</td>\n",
       "    </tr>\n",
       "    <tr>\n",
       "      <th>4</th>\n",
       "      <td>male</td>\n",
       "      <td>group C</td>\n",
       "      <td>some college</td>\n",
       "      <td>standard</td>\n",
       "      <td>none</td>\n",
       "      <td>married</td>\n",
       "      <td>sometimes</td>\n",
       "      <td>yes</td>\n",
       "      <td>0.0</td>\n",
       "      <td>school_bus</td>\n",
       "      <td>5 - 10</td>\n",
       "      <td>76</td>\n",
       "      <td>78</td>\n",
       "      <td>75</td>\n",
       "    </tr>\n",
       "    <tr>\n",
       "      <th>5</th>\n",
       "      <td>female</td>\n",
       "      <td>group B</td>\n",
       "      <td>associate's degree</td>\n",
       "      <td>standard</td>\n",
       "      <td>none</td>\n",
       "      <td>married</td>\n",
       "      <td>regularly</td>\n",
       "      <td>yes</td>\n",
       "      <td>1.0</td>\n",
       "      <td>school_bus</td>\n",
       "      <td>5 - 10</td>\n",
       "      <td>73</td>\n",
       "      <td>84</td>\n",
       "      <td>79</td>\n",
       "    </tr>\n",
       "    <tr>\n",
       "      <th>6</th>\n",
       "      <td>female</td>\n",
       "      <td>group B</td>\n",
       "      <td>some college</td>\n",
       "      <td>standard</td>\n",
       "      <td>completed</td>\n",
       "      <td>widowed</td>\n",
       "      <td>never</td>\n",
       "      <td>no</td>\n",
       "      <td>1.0</td>\n",
       "      <td>private</td>\n",
       "      <td>5 - 10</td>\n",
       "      <td>85</td>\n",
       "      <td>93</td>\n",
       "      <td>89</td>\n",
       "    </tr>\n",
       "    <tr>\n",
       "      <th>7</th>\n",
       "      <td>male</td>\n",
       "      <td>group B</td>\n",
       "      <td>some college</td>\n",
       "      <td>free/reduced</td>\n",
       "      <td>none</td>\n",
       "      <td>married</td>\n",
       "      <td>sometimes</td>\n",
       "      <td>yes</td>\n",
       "      <td>1.0</td>\n",
       "      <td>private</td>\n",
       "      <td>&gt; 10</td>\n",
       "      <td>41</td>\n",
       "      <td>43</td>\n",
       "      <td>39</td>\n",
       "    </tr>\n",
       "  </tbody>\n",
       "</table>\n",
       "</div>"
      ],
      "text/plain": [
       "   Gender EthnicGroup          ParentEduc     LunchType   TestPrep  \\\n",
       "2  female     group B     master's degree      standard       none   \n",
       "4    male     group C        some college      standard       none   \n",
       "5  female     group B  associate's degree      standard       none   \n",
       "6  female     group B        some college      standard  completed   \n",
       "7    male     group B        some college  free/reduced       none   \n",
       "\n",
       "  ParentMaritalStatus PracticeSport IsFirstChild  NrSiblings TransportMeans  \\\n",
       "2              single     sometimes          yes         4.0     school_bus   \n",
       "4             married     sometimes          yes         0.0     school_bus   \n",
       "5             married     regularly          yes         1.0     school_bus   \n",
       "6             widowed         never           no         1.0        private   \n",
       "7             married     sometimes          yes         1.0        private   \n",
       "\n",
       "  WklyStudyHours  MathScore  ReadingScore  WritingScore  \n",
       "2            < 5         87            93            91  \n",
       "4         5 - 10         76            78            75  \n",
       "5         5 - 10         73            84            79  \n",
       "6         5 - 10         85            93            89  \n",
       "7           > 10         41            43            39  "
      ]
     },
     "execution_count": 8,
     "metadata": {},
     "output_type": "execute_result"
    }
   ],
   "source": [
    "df.head()"
   ]
  },
  {
   "cell_type": "markdown",
   "id": "b643bb89",
   "metadata": {},
   "source": [
    "# Type of data"
   ]
  },
  {
   "cell_type": "markdown",
   "id": "f8b4fd2e",
   "metadata": {},
   "source": [
    "Data - Categorical - Ordinal = \"ParentEduc\", \"TestPrep\", \"PracticeSport\"\n",
    "Data - Categorical - Nominal = \"Gender\", \"EthnicGroup\", \"LunchType\", \"ParentMaritalStat\", \"PracticeSport\", \"IsFirstChild\", \"TransportMeans\"] \n",
    "Data - Numerical - Discrete = \"WklyStudyHours\", \"NrSiblings\"\n",
    "Data - Numerical - Continuous = \"MathScore\",\"ReadingScore\",\"WritingScore \""
   ]
  },
  {
   "cell_type": "markdown",
   "id": "76162f32",
   "metadata": {},
   "source": [
    "## Transformation of Categorical data "
   ]
  },
  {
   "cell_type": "markdown",
   "id": "7d0ef977",
   "metadata": {},
   "source": [
    "### Ordinal data - Label incoding\n",
    "<p>\"ParentEduc\"</p> \n",
    "<p>\"TestPrep\"</p>\n",
    "<p>\"PracticeSport\"</p>"
   ]
  },
  {
   "cell_type": "code",
   "execution_count": 9,
   "id": "8663fdba",
   "metadata": {},
   "outputs": [],
   "source": [
    "from sklearn.preprocessing import LabelEncoder\n",
    "le = LabelEncoder()"
   ]
  },
  {
   "cell_type": "markdown",
   "id": "3a42b7f8",
   "metadata": {},
   "source": [
    "#### ParentEduc"
   ]
  },
  {
   "cell_type": "code",
   "execution_count": 10,
   "id": "4b940ea2",
   "metadata": {},
   "outputs": [
    {
     "data": {
      "text/plain": [
       "array([\"master's degree\", 'some college', \"associate's degree\",\n",
       "       'high school', 'some high school', \"bachelor's degree\"],\n",
       "      dtype=object)"
      ]
     },
     "execution_count": 10,
     "metadata": {},
     "output_type": "execute_result"
    }
   ],
   "source": [
    "df[\"ParentEduc\"].unique()"
   ]
  },
  {
   "cell_type": "code",
   "execution_count": 11,
   "id": "fb2ffeea",
   "metadata": {},
   "outputs": [],
   "source": [
    "le.fit([\"some high school\",\"high school\" ,\"some college\", \"associate's degree\", \"bachelor's degree\", \"master's degree\"])\n",
    "df[\"ParentEduc\"] = le.transform(df[\"ParentEduc\"])"
   ]
  },
  {
   "cell_type": "markdown",
   "id": "2d7d715c",
   "metadata": {},
   "source": [
    "#### TestPrep"
   ]
  },
  {
   "cell_type": "code",
   "execution_count": 12,
   "id": "98ab55ae",
   "metadata": {},
   "outputs": [
    {
     "data": {
      "text/plain": [
       "array(['none', 'completed'], dtype=object)"
      ]
     },
     "execution_count": 12,
     "metadata": {},
     "output_type": "execute_result"
    }
   ],
   "source": [
    "df[\"TestPrep\"].unique()"
   ]
  },
  {
   "cell_type": "code",
   "execution_count": 13,
   "id": "1bce8560",
   "metadata": {},
   "outputs": [],
   "source": [
    "le.fit(['none', 'completed'])\n",
    "df[\"TestPrep\"] = le.transform(df[\"TestPrep\"])"
   ]
  },
  {
   "cell_type": "markdown",
   "id": "b1927f70",
   "metadata": {},
   "source": [
    "#### PracticeSport"
   ]
  },
  {
   "cell_type": "code",
   "execution_count": 14,
   "id": "bb7897a8",
   "metadata": {},
   "outputs": [
    {
     "data": {
      "text/plain": [
       "array(['sometimes', 'regularly', 'never'], dtype=object)"
      ]
     },
     "execution_count": 14,
     "metadata": {},
     "output_type": "execute_result"
    }
   ],
   "source": [
    "df[\"PracticeSport\"].unique()"
   ]
  },
  {
   "cell_type": "code",
   "execution_count": 15,
   "id": "8b5207fc",
   "metadata": {},
   "outputs": [],
   "source": [
    "le.fit([\"never\", \"sometimes\", \"regularly\"])\n",
    "df[\"PracticeSport\"] = le.transform(df[\"PracticeSport\"])"
   ]
  },
  {
   "cell_type": "markdown",
   "id": "42f93a86",
   "metadata": {},
   "source": [
    "#### WklyStudyHours"
   ]
  },
  {
   "cell_type": "code",
   "execution_count": 16,
   "id": "fca62ca4",
   "metadata": {},
   "outputs": [
    {
     "data": {
      "text/plain": [
       "array(['< 5', '5 - 10', '> 10'], dtype=object)"
      ]
     },
     "execution_count": 16,
     "metadata": {},
     "output_type": "execute_result"
    }
   ],
   "source": [
    "df[\"WklyStudyHours\"].unique()"
   ]
  },
  {
   "cell_type": "code",
   "execution_count": 17,
   "id": "c016bd7c",
   "metadata": {},
   "outputs": [],
   "source": [
    "le.fit(['< 5', '5 - 10', '> 10'])\n",
    "df[\"WklyStudyHours\"] = le.transform(df[\"WklyStudyHours\"])"
   ]
  },
  {
   "cell_type": "markdown",
   "id": "932c9e10",
   "metadata": {},
   "source": [
    "### Nominal - Getdummies\n",
    "\n",
    "<p>\"Gender\"</p>\n",
    "<p>\"EthnicGroup\" </p>\n",
    "<p>\"LunchType\"</p>\n",
    "<p>\"ParentMaritalStat\"</p> \n",
    "<p>\"PracticeSport\"</p> \n",
    "<p>\"IsFirstChild\"</p>\n",
    "<p>\"TransportMeans\"</p>"
   ]
  },
  {
   "cell_type": "code",
   "execution_count": 18,
   "id": "1bc35415",
   "metadata": {},
   "outputs": [],
   "source": [
    "df = pd.get_dummies(df, columns=[\"Gender\", \"EthnicGroup\", \"LunchType\", \"ParentMaritalStatus\", \"PracticeSport\", \"IsFirstChild\", \"TransportMeans\"])"
   ]
  },
  {
   "cell_type": "code",
   "execution_count": 19,
   "id": "883c4e31",
   "metadata": {},
   "outputs": [
    {
     "name": "stdout",
     "output_type": "stream",
     "text": [
      "<class 'pandas.core.frame.DataFrame'>\n",
      "Int64Index: 19243 entries, 2 to 30640\n",
      "Data columns (total 27 columns):\n",
      " #   Column                        Non-Null Count  Dtype  \n",
      "---  ------                        --------------  -----  \n",
      " 0   ParentEduc                    19243 non-null  int32  \n",
      " 1   TestPrep                      19243 non-null  int32  \n",
      " 2   NrSiblings                    19243 non-null  float64\n",
      " 3   WklyStudyHours                19243 non-null  int32  \n",
      " 4   MathScore                     19243 non-null  int64  \n",
      " 5   ReadingScore                  19243 non-null  int64  \n",
      " 6   WritingScore                  19243 non-null  int64  \n",
      " 7   Gender_female                 19243 non-null  uint8  \n",
      " 8   Gender_male                   19243 non-null  uint8  \n",
      " 9   EthnicGroup_group A           19243 non-null  uint8  \n",
      " 10  EthnicGroup_group B           19243 non-null  uint8  \n",
      " 11  EthnicGroup_group C           19243 non-null  uint8  \n",
      " 12  EthnicGroup_group D           19243 non-null  uint8  \n",
      " 13  EthnicGroup_group E           19243 non-null  uint8  \n",
      " 14  LunchType_free/reduced        19243 non-null  uint8  \n",
      " 15  LunchType_standard            19243 non-null  uint8  \n",
      " 16  ParentMaritalStatus_divorced  19243 non-null  uint8  \n",
      " 17  ParentMaritalStatus_married   19243 non-null  uint8  \n",
      " 18  ParentMaritalStatus_single    19243 non-null  uint8  \n",
      " 19  ParentMaritalStatus_widowed   19243 non-null  uint8  \n",
      " 20  PracticeSport_0               19243 non-null  uint8  \n",
      " 21  PracticeSport_1               19243 non-null  uint8  \n",
      " 22  PracticeSport_2               19243 non-null  uint8  \n",
      " 23  IsFirstChild_no               19243 non-null  uint8  \n",
      " 24  IsFirstChild_yes              19243 non-null  uint8  \n",
      " 25  TransportMeans_private        19243 non-null  uint8  \n",
      " 26  TransportMeans_school_bus     19243 non-null  uint8  \n",
      "dtypes: float64(1), int32(3), int64(3), uint8(20)\n",
      "memory usage: 1.3 MB\n"
     ]
    }
   ],
   "source": [
    "df.info()"
   ]
  },
  {
   "cell_type": "code",
   "execution_count": 20,
   "id": "0d8f104a",
   "metadata": {},
   "outputs": [
    {
     "data": {
      "text/plain": [
       "Index(['ParentEduc', 'TestPrep', 'NrSiblings', 'WklyStudyHours', 'MathScore',\n",
       "       'ReadingScore', 'WritingScore', 'Gender_female', 'Gender_male',\n",
       "       'EthnicGroup_group A', 'EthnicGroup_group B', 'EthnicGroup_group C',\n",
       "       'EthnicGroup_group D', 'EthnicGroup_group E', 'LunchType_free/reduced',\n",
       "       'LunchType_standard', 'ParentMaritalStatus_divorced',\n",
       "       'ParentMaritalStatus_married', 'ParentMaritalStatus_single',\n",
       "       'ParentMaritalStatus_widowed', 'PracticeSport_0', 'PracticeSport_1',\n",
       "       'PracticeSport_2', 'IsFirstChild_no', 'IsFirstChild_yes',\n",
       "       'TransportMeans_private', 'TransportMeans_school_bus'],\n",
       "      dtype='object')"
      ]
     },
     "execution_count": 20,
     "metadata": {},
     "output_type": "execute_result"
    }
   ],
   "source": [
    "df.columns"
   ]
  },
  {
   "cell_type": "markdown",
   "id": "33c16bf6",
   "metadata": {},
   "source": [
    "# Linear Regression"
   ]
  },
  {
   "cell_type": "code",
   "execution_count": 21,
   "id": "8d456467",
   "metadata": {},
   "outputs": [],
   "source": [
    "import numpy as np\n",
    "import seaborn as sns\n",
    "import matplotlib.pyplot as plt\n",
    "from sklearn import linear_model\n",
    "\n",
    "from sklearn.model_selection import train_test_split\n",
    "from sklearn.linear_model import LinearRegression"
   ]
  },
  {
   "cell_type": "code",
   "execution_count": null,
   "id": "cd786905",
   "metadata": {},
   "outputs": [],
   "source": []
  },
  {
   "cell_type": "code",
   "execution_count": 24,
   "id": "ed583af4",
   "metadata": {},
   "outputs": [],
   "source": [
    "# Separating the data into independent and dependent variables\n",
    "# Converting each dataframe into a numpy array\n",
    "# since each dataframe contains only one column\n",
    "\n",
    "RAND_STATE = 34 # for reproducible shuffling\n",
    "TT_RATIO = 0.3 # test/train\n",
    "\n",
    "dfX = df.drop('MathScore',axis=1)\n",
    "\n",
    "X=dfX\n",
    "y=df['MathScore']\n",
    "\n",
    "# Splitting the data into training and testing data\n",
    "X_train, X_test, y_train, y_test = train_test_split(X, y, test_size=TT_RATIO, random_state=RAND_STATE)\n"
   ]
  },
  {
   "cell_type": "code",
   "execution_count": 25,
   "id": "dd8ea88b",
   "metadata": {},
   "outputs": [
    {
     "data": {
      "text/html": [
       "<div>\n",
       "<style scoped>\n",
       "    .dataframe tbody tr th:only-of-type {\n",
       "        vertical-align: middle;\n",
       "    }\n",
       "\n",
       "    .dataframe tbody tr th {\n",
       "        vertical-align: top;\n",
       "    }\n",
       "\n",
       "    .dataframe thead th {\n",
       "        text-align: right;\n",
       "    }\n",
       "</style>\n",
       "<table border=\"1\" class=\"dataframe\">\n",
       "  <thead>\n",
       "    <tr style=\"text-align: right;\">\n",
       "      <th></th>\n",
       "      <th>ParentEduc</th>\n",
       "      <th>TestPrep</th>\n",
       "      <th>NrSiblings</th>\n",
       "      <th>WklyStudyHours</th>\n",
       "      <th>ReadingScore</th>\n",
       "      <th>WritingScore</th>\n",
       "      <th>Gender_female</th>\n",
       "      <th>Gender_male</th>\n",
       "      <th>EthnicGroup_group A</th>\n",
       "      <th>EthnicGroup_group B</th>\n",
       "      <th>...</th>\n",
       "      <th>ParentMaritalStatus_married</th>\n",
       "      <th>ParentMaritalStatus_single</th>\n",
       "      <th>ParentMaritalStatus_widowed</th>\n",
       "      <th>PracticeSport_0</th>\n",
       "      <th>PracticeSport_1</th>\n",
       "      <th>PracticeSport_2</th>\n",
       "      <th>IsFirstChild_no</th>\n",
       "      <th>IsFirstChild_yes</th>\n",
       "      <th>TransportMeans_private</th>\n",
       "      <th>TransportMeans_school_bus</th>\n",
       "    </tr>\n",
       "  </thead>\n",
       "  <tbody>\n",
       "    <tr>\n",
       "      <th>2</th>\n",
       "      <td>3</td>\n",
       "      <td>1</td>\n",
       "      <td>4.0</td>\n",
       "      <td>1</td>\n",
       "      <td>93</td>\n",
       "      <td>91</td>\n",
       "      <td>1</td>\n",
       "      <td>0</td>\n",
       "      <td>0</td>\n",
       "      <td>1</td>\n",
       "      <td>...</td>\n",
       "      <td>0</td>\n",
       "      <td>1</td>\n",
       "      <td>0</td>\n",
       "      <td>0</td>\n",
       "      <td>0</td>\n",
       "      <td>1</td>\n",
       "      <td>0</td>\n",
       "      <td>1</td>\n",
       "      <td>0</td>\n",
       "      <td>1</td>\n",
       "    </tr>\n",
       "    <tr>\n",
       "      <th>4</th>\n",
       "      <td>4</td>\n",
       "      <td>1</td>\n",
       "      <td>0.0</td>\n",
       "      <td>0</td>\n",
       "      <td>78</td>\n",
       "      <td>75</td>\n",
       "      <td>0</td>\n",
       "      <td>1</td>\n",
       "      <td>0</td>\n",
       "      <td>0</td>\n",
       "      <td>...</td>\n",
       "      <td>1</td>\n",
       "      <td>0</td>\n",
       "      <td>0</td>\n",
       "      <td>0</td>\n",
       "      <td>0</td>\n",
       "      <td>1</td>\n",
       "      <td>0</td>\n",
       "      <td>1</td>\n",
       "      <td>0</td>\n",
       "      <td>1</td>\n",
       "    </tr>\n",
       "    <tr>\n",
       "      <th>5</th>\n",
       "      <td>0</td>\n",
       "      <td>1</td>\n",
       "      <td>1.0</td>\n",
       "      <td>0</td>\n",
       "      <td>84</td>\n",
       "      <td>79</td>\n",
       "      <td>1</td>\n",
       "      <td>0</td>\n",
       "      <td>0</td>\n",
       "      <td>1</td>\n",
       "      <td>...</td>\n",
       "      <td>1</td>\n",
       "      <td>0</td>\n",
       "      <td>0</td>\n",
       "      <td>0</td>\n",
       "      <td>1</td>\n",
       "      <td>0</td>\n",
       "      <td>0</td>\n",
       "      <td>1</td>\n",
       "      <td>0</td>\n",
       "      <td>1</td>\n",
       "    </tr>\n",
       "    <tr>\n",
       "      <th>6</th>\n",
       "      <td>4</td>\n",
       "      <td>0</td>\n",
       "      <td>1.0</td>\n",
       "      <td>0</td>\n",
       "      <td>93</td>\n",
       "      <td>89</td>\n",
       "      <td>1</td>\n",
       "      <td>0</td>\n",
       "      <td>0</td>\n",
       "      <td>1</td>\n",
       "      <td>...</td>\n",
       "      <td>0</td>\n",
       "      <td>0</td>\n",
       "      <td>1</td>\n",
       "      <td>1</td>\n",
       "      <td>0</td>\n",
       "      <td>0</td>\n",
       "      <td>1</td>\n",
       "      <td>0</td>\n",
       "      <td>1</td>\n",
       "      <td>0</td>\n",
       "    </tr>\n",
       "    <tr>\n",
       "      <th>7</th>\n",
       "      <td>4</td>\n",
       "      <td>1</td>\n",
       "      <td>1.0</td>\n",
       "      <td>2</td>\n",
       "      <td>43</td>\n",
       "      <td>39</td>\n",
       "      <td>0</td>\n",
       "      <td>1</td>\n",
       "      <td>0</td>\n",
       "      <td>1</td>\n",
       "      <td>...</td>\n",
       "      <td>1</td>\n",
       "      <td>0</td>\n",
       "      <td>0</td>\n",
       "      <td>0</td>\n",
       "      <td>0</td>\n",
       "      <td>1</td>\n",
       "      <td>0</td>\n",
       "      <td>1</td>\n",
       "      <td>1</td>\n",
       "      <td>0</td>\n",
       "    </tr>\n",
       "    <tr>\n",
       "      <th>...</th>\n",
       "      <td>...</td>\n",
       "      <td>...</td>\n",
       "      <td>...</td>\n",
       "      <td>...</td>\n",
       "      <td>...</td>\n",
       "      <td>...</td>\n",
       "      <td>...</td>\n",
       "      <td>...</td>\n",
       "      <td>...</td>\n",
       "      <td>...</td>\n",
       "      <td>...</td>\n",
       "      <td>...</td>\n",
       "      <td>...</td>\n",
       "      <td>...</td>\n",
       "      <td>...</td>\n",
       "      <td>...</td>\n",
       "      <td>...</td>\n",
       "      <td>...</td>\n",
       "      <td>...</td>\n",
       "      <td>...</td>\n",
       "      <td>...</td>\n",
       "    </tr>\n",
       "    <tr>\n",
       "      <th>30635</th>\n",
       "      <td>4</td>\n",
       "      <td>1</td>\n",
       "      <td>2.0</td>\n",
       "      <td>0</td>\n",
       "      <td>53</td>\n",
       "      <td>49</td>\n",
       "      <td>0</td>\n",
       "      <td>1</td>\n",
       "      <td>0</td>\n",
       "      <td>0</td>\n",
       "      <td>...</td>\n",
       "      <td>1</td>\n",
       "      <td>0</td>\n",
       "      <td>0</td>\n",
       "      <td>0</td>\n",
       "      <td>1</td>\n",
       "      <td>0</td>\n",
       "      <td>1</td>\n",
       "      <td>0</td>\n",
       "      <td>0</td>\n",
       "      <td>1</td>\n",
       "    </tr>\n",
       "    <tr>\n",
       "      <th>30636</th>\n",
       "      <td>2</td>\n",
       "      <td>1</td>\n",
       "      <td>2.0</td>\n",
       "      <td>0</td>\n",
       "      <td>61</td>\n",
       "      <td>65</td>\n",
       "      <td>1</td>\n",
       "      <td>0</td>\n",
       "      <td>0</td>\n",
       "      <td>0</td>\n",
       "      <td>...</td>\n",
       "      <td>0</td>\n",
       "      <td>1</td>\n",
       "      <td>0</td>\n",
       "      <td>0</td>\n",
       "      <td>0</td>\n",
       "      <td>1</td>\n",
       "      <td>1</td>\n",
       "      <td>0</td>\n",
       "      <td>0</td>\n",
       "      <td>1</td>\n",
       "    </tr>\n",
       "    <tr>\n",
       "      <th>30637</th>\n",
       "      <td>2</td>\n",
       "      <td>1</td>\n",
       "      <td>1.0</td>\n",
       "      <td>0</td>\n",
       "      <td>53</td>\n",
       "      <td>51</td>\n",
       "      <td>0</td>\n",
       "      <td>1</td>\n",
       "      <td>0</td>\n",
       "      <td>0</td>\n",
       "      <td>...</td>\n",
       "      <td>0</td>\n",
       "      <td>1</td>\n",
       "      <td>0</td>\n",
       "      <td>0</td>\n",
       "      <td>1</td>\n",
       "      <td>0</td>\n",
       "      <td>1</td>\n",
       "      <td>0</td>\n",
       "      <td>1</td>\n",
       "      <td>0</td>\n",
       "    </tr>\n",
       "    <tr>\n",
       "      <th>30639</th>\n",
       "      <td>0</td>\n",
       "      <td>0</td>\n",
       "      <td>3.0</td>\n",
       "      <td>0</td>\n",
       "      <td>90</td>\n",
       "      <td>93</td>\n",
       "      <td>1</td>\n",
       "      <td>0</td>\n",
       "      <td>0</td>\n",
       "      <td>0</td>\n",
       "      <td>...</td>\n",
       "      <td>1</td>\n",
       "      <td>0</td>\n",
       "      <td>0</td>\n",
       "      <td>0</td>\n",
       "      <td>1</td>\n",
       "      <td>0</td>\n",
       "      <td>1</td>\n",
       "      <td>0</td>\n",
       "      <td>0</td>\n",
       "      <td>1</td>\n",
       "    </tr>\n",
       "    <tr>\n",
       "      <th>30640</th>\n",
       "      <td>4</td>\n",
       "      <td>1</td>\n",
       "      <td>1.0</td>\n",
       "      <td>0</td>\n",
       "      <td>60</td>\n",
       "      <td>58</td>\n",
       "      <td>0</td>\n",
       "      <td>1</td>\n",
       "      <td>0</td>\n",
       "      <td>1</td>\n",
       "      <td>...</td>\n",
       "      <td>1</td>\n",
       "      <td>0</td>\n",
       "      <td>0</td>\n",
       "      <td>1</td>\n",
       "      <td>0</td>\n",
       "      <td>0</td>\n",
       "      <td>1</td>\n",
       "      <td>0</td>\n",
       "      <td>0</td>\n",
       "      <td>1</td>\n",
       "    </tr>\n",
       "  </tbody>\n",
       "</table>\n",
       "<p>19243 rows × 26 columns</p>\n",
       "</div>"
      ],
      "text/plain": [
       "       ParentEduc  TestPrep  NrSiblings  WklyStudyHours  ReadingScore  \\\n",
       "2               3         1         4.0               1            93   \n",
       "4               4         1         0.0               0            78   \n",
       "5               0         1         1.0               0            84   \n",
       "6               4         0         1.0               0            93   \n",
       "7               4         1         1.0               2            43   \n",
       "...           ...       ...         ...             ...           ...   \n",
       "30635           4         1         2.0               0            53   \n",
       "30636           2         1         2.0               0            61   \n",
       "30637           2         1         1.0               0            53   \n",
       "30639           0         0         3.0               0            90   \n",
       "30640           4         1         1.0               0            60   \n",
       "\n",
       "       WritingScore  Gender_female  Gender_male  EthnicGroup_group A  \\\n",
       "2                91              1            0                    0   \n",
       "4                75              0            1                    0   \n",
       "5                79              1            0                    0   \n",
       "6                89              1            0                    0   \n",
       "7                39              0            1                    0   \n",
       "...             ...            ...          ...                  ...   \n",
       "30635            49              0            1                    0   \n",
       "30636            65              1            0                    0   \n",
       "30637            51              0            1                    0   \n",
       "30639            93              1            0                    0   \n",
       "30640            58              0            1                    0   \n",
       "\n",
       "       EthnicGroup_group B  ...  ParentMaritalStatus_married  \\\n",
       "2                        1  ...                            0   \n",
       "4                        0  ...                            1   \n",
       "5                        1  ...                            1   \n",
       "6                        1  ...                            0   \n",
       "7                        1  ...                            1   \n",
       "...                    ...  ...                          ...   \n",
       "30635                    0  ...                            1   \n",
       "30636                    0  ...                            0   \n",
       "30637                    0  ...                            0   \n",
       "30639                    0  ...                            1   \n",
       "30640                    1  ...                            1   \n",
       "\n",
       "       ParentMaritalStatus_single  ParentMaritalStatus_widowed  \\\n",
       "2                               1                            0   \n",
       "4                               0                            0   \n",
       "5                               0                            0   \n",
       "6                               0                            1   \n",
       "7                               0                            0   \n",
       "...                           ...                          ...   \n",
       "30635                           0                            0   \n",
       "30636                           1                            0   \n",
       "30637                           1                            0   \n",
       "30639                           0                            0   \n",
       "30640                           0                            0   \n",
       "\n",
       "       PracticeSport_0  PracticeSport_1  PracticeSport_2  IsFirstChild_no  \\\n",
       "2                    0                0                1                0   \n",
       "4                    0                0                1                0   \n",
       "5                    0                1                0                0   \n",
       "6                    1                0                0                1   \n",
       "7                    0                0                1                0   \n",
       "...                ...              ...              ...              ...   \n",
       "30635                0                1                0                1   \n",
       "30636                0                0                1                1   \n",
       "30637                0                1                0                1   \n",
       "30639                0                1                0                1   \n",
       "30640                1                0                0                1   \n",
       "\n",
       "       IsFirstChild_yes  TransportMeans_private  TransportMeans_school_bus  \n",
       "2                     1                       0                          1  \n",
       "4                     1                       0                          1  \n",
       "5                     1                       0                          1  \n",
       "6                     0                       1                          0  \n",
       "7                     1                       1                          0  \n",
       "...                 ...                     ...                        ...  \n",
       "30635                 0                       0                          1  \n",
       "30636                 0                       0                          1  \n",
       "30637                 0                       1                          0  \n",
       "30639                 0                       0                          1  \n",
       "30640                 0                       0                          1  \n",
       "\n",
       "[19243 rows x 26 columns]"
      ]
     },
     "execution_count": 25,
     "metadata": {},
     "output_type": "execute_result"
    }
   ],
   "source": []
  },
  {
   "cell_type": "markdown",
   "id": "718a83af",
   "metadata": {},
   "source": [
    "## Model Development"
   ]
  },
  {
   "cell_type": "code",
   "execution_count": 26,
   "id": "7e3be5e4",
   "metadata": {},
   "outputs": [
    {
     "data": {
      "text/plain": [
       "LinearRegression()"
      ]
     },
     "execution_count": 26,
     "metadata": {},
     "output_type": "execute_result"
    }
   ],
   "source": [
    "regr = LinearRegression()\n",
    "regr.fit(X_train, y_train)"
   ]
  },
  {
   "cell_type": "markdown",
   "id": "45d9a3bb",
   "metadata": {},
   "source": [
    "## Model Evaluation"
   ]
  },
  {
   "cell_type": "code",
   "execution_count": null,
   "id": "96561d72",
   "metadata": {},
   "outputs": [],
   "source": [
    "y_pred = regr.predict(X_test)\n",
    "print(mean_squared_error(y_test,y_pred))"
   ]
  },
  {
   "cell_type": "markdown",
   "id": "dd22ce4d",
   "metadata": {},
   "source": [
    "### Data scatter of predicted values"
   ]
  },
  {
   "cell_type": "code",
   "execution_count": 43,
   "id": "7cbfd3a1",
   "metadata": {
    "scrolled": true
   },
   "outputs": [
    {
     "data": {
      "image/png": "[encoded data removed]",
      "text/plain": [
       "<Figure size 432x288 with 1 Axes>"
      ]
     },
     "metadata": {
      "needs_background": "light"
     },
     "output_type": "display_data"
    }
   ],
   "source": [
    "y_pred = regr.predict(X_test)\n",
    "plt.scatter(y_pred, y_test, color = 'b')\n",
    "\n",
    "plt.show()"
   ]
  },
  {
   "cell_type": "markdown",
   "id": "ff6cd309",
   "metadata": {},
   "source": [
    "### OLS"
   ]
  },
  {
   "cell_type": "code",
   "execution_count": 42,
   "id": "3c4bb18d",
   "metadata": {},
   "outputs": [
    {
     "name": "stdout",
     "output_type": "stream",
     "text": [
      "                            OLS Regression Results                            \n",
      "==============================================================================\n",
      "Dep. Variable:              MathScore   R-squared:                       0.874\n",
      "Model:                            OLS   Adj. R-squared:                  0.874\n",
      "Method:                 Least Squares   F-statistic:                     4933.\n",
      "Date:                Sat, 13 May 2023   Prob (F-statistic):               0.00\n",
      "Time:                        19:40:30   Log-Likelihood:                -41865.\n",
      "No. Observations:               13470   AIC:                         8.377e+04\n",
      "Df Residuals:                   13450   BIC:                         8.392e+04\n",
      "Df Model:                          19                                         \n",
      "Covariance Type:            nonrobust                                         \n",
      "================================================================================================\n",
      "                                   coef    std err          t      P>|t|      [0.025      0.975]\n",
      "------------------------------------------------------------------------------------------------\n",
      "const                           -0.0563      0.084     -0.669      0.504      -0.221       0.109\n",
      "ParentEduc                       0.0075      0.026      0.286      0.775      -0.044       0.059\n",
      "TestPrep                         3.4974      0.108     32.437      0.000       3.286       3.709\n",
      "NrSiblings                      -0.0099      0.032     -0.305      0.761      -0.073       0.054\n",
      "WklyStudyHours                   0.1907      0.061      3.108      0.002       0.070       0.311\n",
      "ReadingScore                     0.2668      0.011     24.041      0.000       0.245       0.289\n",
      "WritingScore                     0.6637      0.011     59.096      0.000       0.642       0.686\n",
      "Gender_female                   -6.4056      0.073    -87.445      0.000      -6.549      -6.262\n",
      "Gender_male                      6.3493      0.057    112.211      0.000       6.238       6.460\n",
      "EthnicGroup_group A             -1.0384      0.143     -7.267      0.000      -1.318      -0.758\n",
      "EthnicGroup_group B             -0.9599      0.097     -9.941      0.000      -1.149      -0.771\n",
      "EthnicGroup_group C             -1.0478      0.083    -12.635      0.000      -1.210      -0.885\n",
      "EthnicGroup_group D             -1.1968      0.093    -12.860      0.000      -1.379      -1.014\n",
      "EthnicGroup_group E              4.1866      0.114     36.673      0.000       3.963       4.410\n",
      "LunchType_free/reduced          -1.9384      0.059    -32.858      0.000      -2.054      -1.823\n",
      "LunchType_standard               1.8821      0.073     25.640      0.000       1.738       2.026\n",
      "ParentMaritalStatus_divorced     0.0947      0.122      0.776      0.438      -0.145       0.334\n",
      "ParentMaritalStatus_married      0.0118      0.100      0.118      0.906      -0.185       0.208\n",
      "ParentMaritalStatus_single      -0.0274      0.113     -0.241      0.809      -0.250       0.195\n",
      "ParentMaritalStatus_widowed     -0.1354      0.263     -0.515      0.606      -0.651       0.380\n",
      "PracticeSport_0                 -0.7390      0.098     -7.567      0.000      -0.930      -0.548\n",
      "PracticeSport_1                  0.4958      0.076      6.491      0.000       0.346       0.646\n",
      "PracticeSport_2                  0.1869      0.070      2.669      0.008       0.050       0.324\n",
      "IsFirstChild_no                 -0.0464      0.067     -0.692      0.489      -0.178       0.085\n",
      "IsFirstChild_yes                -0.0099      0.063     -0.159      0.874      -0.133       0.113\n",
      "TransportMeans_private          -0.0410      0.064     -0.639      0.523      -0.167       0.085\n",
      "TransportMeans_school_bus       -0.0153      0.063     -0.245      0.807      -0.138       0.107\n",
      "==============================================================================\n",
      "Omnibus:                        6.207   Durbin-Watson:                   1.988\n",
      "Prob(Omnibus):                  0.045   Jarque-Bera (JB):                5.733\n",
      "Skew:                          -0.005   Prob(JB):                       0.0569\n",
      "Kurtosis:                       2.899   Cond. No.                     1.48e+17\n",
      "==============================================================================\n",
      "\n",
      "Notes:\n",
      "[1] Standard Errors assume that the covariance matrix of the errors is correctly specified.\n",
      "[2] The smallest eigenvalue is 6.18e-27. This might indicate that there are\n",
      "strong multicollinearity problems or that the design matrix is singular.\n"
     ]
    }
   ],
   "source": [
    "import statsmodels.api as sm\n",
    "X_train_const_ct = sm.add_constant(X_train.to_numpy()) \n",
    "\n",
    "model = sm.OLS(y_train, X_train_const_ct).fit()\n",
    "predictions_train = model.predict(X_train_const_ct)\n",
    "\n",
    "X_test_const_ct = sm.add_constant(X_test) \n",
    "predictions_test = model.predict(X_test_const_ct)\n",
    "\n",
    "# hacer que en el OLS salgan los nombres de las columnas en lugar de las x1,x2,x3\n",
    "# para eso es necesario agregar la columna \"const\" a la lista con nombre de las columnas.\n",
    "features = list(['const']) + list(X.columns)\n",
    "print_model = model.summary(xname=features)\n",
    "\n",
    "print(print_model)"
   ]
  },
  {
   "cell_type": "markdown",
   "id": "af3f41de",
   "metadata": {},
   "source": [
    "### Feature Importances"
   ]
  },
  {
   "cell_type": "code",
   "execution_count": 51,
   "id": "f5b88501",
   "metadata": {
    "collapsed": true
   },
   "outputs": [
    {
     "data": {
      "text/html": [
       "<div>\n",
       "<style scoped>\n",
       "    .dataframe tbody tr th:only-of-type {\n",
       "        vertical-align: middle;\n",
       "    }\n",
       "\n",
       "    .dataframe tbody tr th {\n",
       "        vertical-align: top;\n",
       "    }\n",
       "\n",
       "    .dataframe thead th {\n",
       "        text-align: right;\n",
       "    }\n",
       "</style>\n",
       "<table border=\"1\" class=\"dataframe\">\n",
       "  <thead>\n",
       "    <tr style=\"text-align: right;\">\n",
       "      <th></th>\n",
       "      <th>Attribute</th>\n",
       "      <th>Importance</th>\n",
       "    </tr>\n",
       "  </thead>\n",
       "  <tbody>\n",
       "    <tr>\n",
       "      <th>7</th>\n",
       "      <td>Gender_male</td>\n",
       "      <td>6.377474</td>\n",
       "    </tr>\n",
       "    <tr>\n",
       "      <th>12</th>\n",
       "      <td>EthnicGroup_group E</td>\n",
       "      <td>4.197838</td>\n",
       "    </tr>\n",
       "    <tr>\n",
       "      <th>1</th>\n",
       "      <td>TestPrep</td>\n",
       "      <td>3.497435</td>\n",
       "    </tr>\n",
       "    <tr>\n",
       "      <th>14</th>\n",
       "      <td>LunchType_standard</td>\n",
       "      <td>1.910227</td>\n",
       "    </tr>\n",
       "    <tr>\n",
       "      <th>5</th>\n",
       "      <td>WritingScore</td>\n",
       "      <td>0.663712</td>\n",
       "    </tr>\n",
       "    <tr>\n",
       "      <th>20</th>\n",
       "      <td>PracticeSport_1</td>\n",
       "      <td>0.514599</td>\n",
       "    </tr>\n",
       "    <tr>\n",
       "      <th>4</th>\n",
       "      <td>ReadingScore</td>\n",
       "      <td>0.266840</td>\n",
       "    </tr>\n",
       "    <tr>\n",
       "      <th>21</th>\n",
       "      <td>PracticeSport_2</td>\n",
       "      <td>0.205657</td>\n",
       "    </tr>\n",
       "    <tr>\n",
       "      <th>3</th>\n",
       "      <td>WklyStudyHours</td>\n",
       "      <td>0.190734</td>\n",
       "    </tr>\n",
       "    <tr>\n",
       "      <th>15</th>\n",
       "      <td>ParentMaritalStatus_divorced</td>\n",
       "      <td>0.108781</td>\n",
       "    </tr>\n",
       "    <tr>\n",
       "      <th>16</th>\n",
       "      <td>ParentMaritalStatus_married</td>\n",
       "      <td>0.025873</td>\n",
       "    </tr>\n",
       "    <tr>\n",
       "      <th>23</th>\n",
       "      <td>IsFirstChild_yes</td>\n",
       "      <td>0.018210</td>\n",
       "    </tr>\n",
       "    <tr>\n",
       "      <th>25</th>\n",
       "      <td>TransportMeans_school_bus</td>\n",
       "      <td>0.012818</td>\n",
       "    </tr>\n",
       "    <tr>\n",
       "      <th>0</th>\n",
       "      <td>ParentEduc</td>\n",
       "      <td>0.007503</td>\n",
       "    </tr>\n",
       "    <tr>\n",
       "      <th>2</th>\n",
       "      <td>NrSiblings</td>\n",
       "      <td>-0.009884</td>\n",
       "    </tr>\n",
       "    <tr>\n",
       "      <th>24</th>\n",
       "      <td>TransportMeans_private</td>\n",
       "      <td>-0.012818</td>\n",
       "    </tr>\n",
       "    <tr>\n",
       "      <th>17</th>\n",
       "      <td>ParentMaritalStatus_single</td>\n",
       "      <td>-0.013295</td>\n",
       "    </tr>\n",
       "    <tr>\n",
       "      <th>22</th>\n",
       "      <td>IsFirstChild_no</td>\n",
       "      <td>-0.018210</td>\n",
       "    </tr>\n",
       "    <tr>\n",
       "      <th>18</th>\n",
       "      <td>ParentMaritalStatus_widowed</td>\n",
       "      <td>-0.121359</td>\n",
       "    </tr>\n",
       "    <tr>\n",
       "      <th>19</th>\n",
       "      <td>PracticeSport_0</td>\n",
       "      <td>-0.720256</td>\n",
       "    </tr>\n",
       "    <tr>\n",
       "      <th>9</th>\n",
       "      <td>EthnicGroup_group B</td>\n",
       "      <td>-0.948667</td>\n",
       "    </tr>\n",
       "    <tr>\n",
       "      <th>8</th>\n",
       "      <td>EthnicGroup_group A</td>\n",
       "      <td>-1.027117</td>\n",
       "    </tr>\n",
       "    <tr>\n",
       "      <th>10</th>\n",
       "      <td>EthnicGroup_group C</td>\n",
       "      <td>-1.036513</td>\n",
       "    </tr>\n",
       "    <tr>\n",
       "      <th>11</th>\n",
       "      <td>EthnicGroup_group D</td>\n",
       "      <td>-1.185542</td>\n",
       "    </tr>\n",
       "    <tr>\n",
       "      <th>13</th>\n",
       "      <td>LunchType_free/reduced</td>\n",
       "      <td>-1.910227</td>\n",
       "    </tr>\n",
       "    <tr>\n",
       "      <th>6</th>\n",
       "      <td>Gender_female</td>\n",
       "      <td>-6.377474</td>\n",
       "    </tr>\n",
       "  </tbody>\n",
       "</table>\n",
       "</div>"
      ],
      "text/plain": [
       "                       Attribute  Importance\n",
       "7                    Gender_male    6.377474\n",
       "12           EthnicGroup_group E    4.197838\n",
       "1                       TestPrep    3.497435\n",
       "14            LunchType_standard    1.910227\n",
       "5                   WritingScore    0.663712\n",
       "20               PracticeSport_1    0.514599\n",
       "4                   ReadingScore    0.266840\n",
       "21               PracticeSport_2    0.205657\n",
       "3                 WklyStudyHours    0.190734\n",
       "15  ParentMaritalStatus_divorced    0.108781\n",
       "16   ParentMaritalStatus_married    0.025873\n",
       "23              IsFirstChild_yes    0.018210\n",
       "25     TransportMeans_school_bus    0.012818\n",
       "0                     ParentEduc    0.007503\n",
       "2                     NrSiblings   -0.009884\n",
       "24        TransportMeans_private   -0.012818\n",
       "17    ParentMaritalStatus_single   -0.013295\n",
       "22               IsFirstChild_no   -0.018210\n",
       "18   ParentMaritalStatus_widowed   -0.121359\n",
       "19               PracticeSport_0   -0.720256\n",
       "9            EthnicGroup_group B   -0.948667\n",
       "8            EthnicGroup_group A   -1.027117\n",
       "10           EthnicGroup_group C   -1.036513\n",
       "11           EthnicGroup_group D   -1.185542\n",
       "13        LunchType_free/reduced   -1.910227\n",
       "6                  Gender_female   -6.377474"
      ]
     },
     "execution_count": 51,
     "metadata": {},
     "output_type": "execute_result"
    }
   ],
   "source": [
    "features_importances = pd.DataFrame(data={\n",
    "    'Attribute': X_train.columns,\n",
    "    'Importance': regr.coef_.reshape(len(X_train.columns),)\n",
    "})\n",
    "features_importances = features_importances.sort_values(by='Importance', ascending=False)\n",
    "features_importances"
   ]
  },
  {
   "cell_type": "code",
   "execution_count": 52,
   "id": "3b1ef7c7",
   "metadata": {},
   "outputs": [
    {
     "data": {
      "image/png": "[encoded data removed]",
      "text/plain": [
       "<Figure size 432x288 with 1 Axes>"
      ]
     },
     "metadata": {
      "needs_background": "light"
     },
     "output_type": "display_data"
    }
   ],
   "source": [
    "plt.bar(x=features_importances['Attribute'].iloc[:10], height=features_importances['Importance'].iloc[:10], color='#087E8B')\n",
    "plt.title('Feature importance rankings', size=12)\n",
    "plt.xticks(rotation='vertical')\n",
    "plt.show()"
   ]
  }
 ],
 "metadata": {
  "kernelspec": {
   "display_name": "Python 3 (ipykernel)",
   "language": "python",
   "name": "python3"
  },
  "language_info": {
   "codemirror_mode": {
    "name": "ipython",
    "version": 3
   },
   "file_extension": ".py",
   "mimetype": "text/x-python",
   "name": "python",
   "nbconvert_exporter": "python",
   "pygments_lexer": "ipython3",
   "version": "3.9.12"
  }
 },
 "nbformat": 4,
 "nbformat_minor": 5
}
