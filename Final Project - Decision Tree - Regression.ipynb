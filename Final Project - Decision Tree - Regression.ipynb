{
 "cells": [
  {
   "cell_type": "markdown",
   "id": "78187b99",
   "metadata": {},
   "source": [
    "## What are the variables that have the greatest influence on math grades?\n",
    "## Is it possible to predict student grades based on these variables?"
   ]
  },
  {
   "cell_type": "code",
   "execution_count": 1,
   "id": "2fcea72d",
   "metadata": {},
   "outputs": [],
   "source": [
    "import pandas as pd\n",
    "df = pd.read_csv(\"Expanded_data_with_more_features.csv\")"
   ]
  },
  {
   "cell_type": "code",
   "execution_count": 2,
   "id": "506bf2d8",
   "metadata": {},
   "outputs": [
    {
     "data": {
      "text/plain": [
       "Unnamed: 0               int64\n",
       "Gender                  object\n",
       "EthnicGroup             object\n",
       "ParentEduc              object\n",
       "LunchType               object\n",
       "TestPrep                object\n",
       "ParentMaritalStatus     object\n",
       "PracticeSport           object\n",
       "IsFirstChild            object\n",
       "NrSiblings             float64\n",
       "TransportMeans          object\n",
       "WklyStudyHours          object\n",
       "MathScore                int64\n",
       "ReadingScore             int64\n",
       "WritingScore             int64\n",
       "dtype: object"
      ]
     },
     "execution_count": 2,
     "metadata": {},
     "output_type": "execute_result"
    }
   ],
   "source": [
    "df.dtypes"
   ]
  },
  {
   "cell_type": "markdown",
   "id": "81a23d0e",
   "metadata": {},
   "source": [
    "# Data Cleaning"
   ]
  },
  {
   "cell_type": "code",
   "execution_count": 3,
   "id": "8ad5098f",
   "metadata": {},
   "outputs": [
    {
     "data": {
      "text/plain": [
       "Unnamed: 0                0\n",
       "Gender                    0\n",
       "EthnicGroup            1840\n",
       "ParentEduc             1845\n",
       "LunchType                 0\n",
       "TestPrep               1830\n",
       "ParentMaritalStatus    1190\n",
       "PracticeSport           631\n",
       "IsFirstChild            904\n",
       "NrSiblings             1572\n",
       "TransportMeans         3134\n",
       "WklyStudyHours          955\n",
       "MathScore                 0\n",
       "ReadingScore              0\n",
       "WritingScore              0\n",
       "dtype: int64"
      ]
     },
     "execution_count": 3,
     "metadata": {},
     "output_type": "execute_result"
    }
   ],
   "source": [
    "df.isna().sum()"
   ]
  },
  {
   "cell_type": "markdown",
   "id": "01e15bf7",
   "metadata": {},
   "source": [
    "## Drop Columns"
   ]
  },
  {
   "cell_type": "code",
   "execution_count": 4,
   "id": "ed084fe2",
   "metadata": {},
   "outputs": [],
   "source": [
    "df = df.drop(\"Unnamed: 0\", axis=1)"
   ]
  },
  {
   "cell_type": "markdown",
   "id": "56fb2fd9",
   "metadata": {},
   "source": [
    "## Drop NaNs"
   ]
  },
  {
   "cell_type": "code",
   "execution_count": 5,
   "id": "f597b422",
   "metadata": {},
   "outputs": [],
   "source": [
    "cols_to_drop = [\"EthnicGroup\",\"ParentEduc\",\"TestPrep\",\"ParentMaritalStatus\",\"PracticeSport\", \"IsFirstChild\",\"NrSiblings\",\"TransportMeans\",\"WklyStudyHours\"]\n",
    "df = df.dropna(subset=cols_to_drop, axis=0)"
   ]
  },
  {
   "cell_type": "code",
   "execution_count": 6,
   "id": "91dcfe88",
   "metadata": {},
   "outputs": [
    {
     "data": {
      "text/plain": [
       "Gender                 0\n",
       "EthnicGroup            0\n",
       "ParentEduc             0\n",
       "LunchType              0\n",
       "TestPrep               0\n",
       "ParentMaritalStatus    0\n",
       "PracticeSport          0\n",
       "IsFirstChild           0\n",
       "NrSiblings             0\n",
       "TransportMeans         0\n",
       "WklyStudyHours         0\n",
       "MathScore              0\n",
       "ReadingScore           0\n",
       "WritingScore           0\n",
       "dtype: int64"
      ]
     },
     "execution_count": 6,
     "metadata": {},
     "output_type": "execute_result"
    }
   ],
   "source": [
    "df.isna().sum()"
   ]
  },
  {
   "cell_type": "code",
   "execution_count": 7,
   "id": "6e50fd7f",
   "metadata": {},
   "outputs": [
    {
     "data": {
      "text/html": [
       "<div>\n",
       "<style scoped>\n",
       "    .dataframe tbody tr th:only-of-type {\n",
       "        vertical-align: middle;\n",
       "    }\n",
       "\n",
       "    .dataframe tbody tr th {\n",
       "        vertical-align: top;\n",
       "    }\n",
       "\n",
       "    .dataframe thead th {\n",
       "        text-align: right;\n",
       "    }\n",
       "</style>\n",
       "<table border=\"1\" class=\"dataframe\">\n",
       "  <thead>\n",
       "    <tr style=\"text-align: right;\">\n",
       "      <th></th>\n",
       "      <th>Gender</th>\n",
       "      <th>EthnicGroup</th>\n",
       "      <th>ParentEduc</th>\n",
       "      <th>LunchType</th>\n",
       "      <th>TestPrep</th>\n",
       "      <th>ParentMaritalStatus</th>\n",
       "      <th>PracticeSport</th>\n",
       "      <th>IsFirstChild</th>\n",
       "      <th>NrSiblings</th>\n",
       "      <th>TransportMeans</th>\n",
       "      <th>WklyStudyHours</th>\n",
       "      <th>MathScore</th>\n",
       "      <th>ReadingScore</th>\n",
       "      <th>WritingScore</th>\n",
       "    </tr>\n",
       "  </thead>\n",
       "  <tbody>\n",
       "    <tr>\n",
       "      <th>2</th>\n",
       "      <td>female</td>\n",
       "      <td>group B</td>\n",
       "      <td>master's degree</td>\n",
       "      <td>standard</td>\n",
       "      <td>none</td>\n",
       "      <td>single</td>\n",
       "      <td>sometimes</td>\n",
       "      <td>yes</td>\n",
       "      <td>4.0</td>\n",
       "      <td>school_bus</td>\n",
       "      <td>&lt; 5</td>\n",
       "      <td>87</td>\n",
       "      <td>93</td>\n",
       "      <td>91</td>\n",
       "    </tr>\n",
       "    <tr>\n",
       "      <th>4</th>\n",
       "      <td>male</td>\n",
       "      <td>group C</td>\n",
       "      <td>some college</td>\n",
       "      <td>standard</td>\n",
       "      <td>none</td>\n",
       "      <td>married</td>\n",
       "      <td>sometimes</td>\n",
       "      <td>yes</td>\n",
       "      <td>0.0</td>\n",
       "      <td>school_bus</td>\n",
       "      <td>5 - 10</td>\n",
       "      <td>76</td>\n",
       "      <td>78</td>\n",
       "      <td>75</td>\n",
       "    </tr>\n",
       "    <tr>\n",
       "      <th>5</th>\n",
       "      <td>female</td>\n",
       "      <td>group B</td>\n",
       "      <td>associate's degree</td>\n",
       "      <td>standard</td>\n",
       "      <td>none</td>\n",
       "      <td>married</td>\n",
       "      <td>regularly</td>\n",
       "      <td>yes</td>\n",
       "      <td>1.0</td>\n",
       "      <td>school_bus</td>\n",
       "      <td>5 - 10</td>\n",
       "      <td>73</td>\n",
       "      <td>84</td>\n",
       "      <td>79</td>\n",
       "    </tr>\n",
       "    <tr>\n",
       "      <th>6</th>\n",
       "      <td>female</td>\n",
       "      <td>group B</td>\n",
       "      <td>some college</td>\n",
       "      <td>standard</td>\n",
       "      <td>completed</td>\n",
       "      <td>widowed</td>\n",
       "      <td>never</td>\n",
       "      <td>no</td>\n",
       "      <td>1.0</td>\n",
       "      <td>private</td>\n",
       "      <td>5 - 10</td>\n",
       "      <td>85</td>\n",
       "      <td>93</td>\n",
       "      <td>89</td>\n",
       "    </tr>\n",
       "    <tr>\n",
       "      <th>7</th>\n",
       "      <td>male</td>\n",
       "      <td>group B</td>\n",
       "      <td>some college</td>\n",
       "      <td>free/reduced</td>\n",
       "      <td>none</td>\n",
       "      <td>married</td>\n",
       "      <td>sometimes</td>\n",
       "      <td>yes</td>\n",
       "      <td>1.0</td>\n",
       "      <td>private</td>\n",
       "      <td>&gt; 10</td>\n",
       "      <td>41</td>\n",
       "      <td>43</td>\n",
       "      <td>39</td>\n",
       "    </tr>\n",
       "  </tbody>\n",
       "</table>\n",
       "</div>"
      ],
      "text/plain": [
       "   Gender EthnicGroup          ParentEduc     LunchType   TestPrep  \\\n",
       "2  female     group B     master's degree      standard       none   \n",
       "4    male     group C        some college      standard       none   \n",
       "5  female     group B  associate's degree      standard       none   \n",
       "6  female     group B        some college      standard  completed   \n",
       "7    male     group B        some college  free/reduced       none   \n",
       "\n",
       "  ParentMaritalStatus PracticeSport IsFirstChild  NrSiblings TransportMeans  \\\n",
       "2              single     sometimes          yes         4.0     school_bus   \n",
       "4             married     sometimes          yes         0.0     school_bus   \n",
       "5             married     regularly          yes         1.0     school_bus   \n",
       "6             widowed         never           no         1.0        private   \n",
       "7             married     sometimes          yes         1.0        private   \n",
       "\n",
       "  WklyStudyHours  MathScore  ReadingScore  WritingScore  \n",
       "2            < 5         87            93            91  \n",
       "4         5 - 10         76            78            75  \n",
       "5         5 - 10         73            84            79  \n",
       "6         5 - 10         85            93            89  \n",
       "7           > 10         41            43            39  "
      ]
     },
     "execution_count": 7,
     "metadata": {},
     "output_type": "execute_result"
    }
   ],
   "source": [
    "df.head()"
   ]
  },
  {
   "cell_type": "markdown",
   "id": "b643bb89",
   "metadata": {},
   "source": [
    "# Type of data"
   ]
  },
  {
   "cell_type": "markdown",
   "id": "f8b4fd2e",
   "metadata": {},
   "source": [
    "Data - Categorical - Ordinal = \"ParentEduc\", \"TestPrep\", \"PracticeSport\"\n",
    "Data - Categorical - Nominal = \"Gender\", \"EthnicGroup\", \"LunchType\", \"ParentMaritalStat\", \"PracticeSport\", \"IsFirstChild\", \"TransportMeans\"] \n",
    "Data - Numerical - Discrete = \"WklyStudyHours\", \"NrSiblings\"\n",
    "Data - Numerical - Continuous = \"MathScore\",\"ReadingScore\",\"WritingScore \""
   ]
  },
  {
   "cell_type": "markdown",
   "id": "76162f32",
   "metadata": {},
   "source": [
    "## Transformation of Categorical data "
   ]
  },
  {
   "cell_type": "markdown",
   "id": "7d0ef977",
   "metadata": {},
   "source": [
    "### Ordinal data - Label incoding\n",
    "<p>\"ParentEduc\"</p> \n",
    "<p>\"TestPrep\"</p>\n",
    "<p>\"PracticeSport\"</p>"
   ]
  },
  {
   "cell_type": "code",
   "execution_count": 8,
   "id": "8663fdba",
   "metadata": {},
   "outputs": [],
   "source": [
    "from sklearn.preprocessing import LabelEncoder\n",
    "le = LabelEncoder()"
   ]
  },
  {
   "cell_type": "markdown",
   "id": "3a42b7f8",
   "metadata": {},
   "source": [
    "#### ParentEduc"
   ]
  },
  {
   "cell_type": "code",
   "execution_count": 9,
   "id": "4b940ea2",
   "metadata": {},
   "outputs": [
    {
     "data": {
      "text/plain": [
       "array([\"master's degree\", 'some college', \"associate's degree\",\n",
       "       'high school', 'some high school', \"bachelor's degree\"],\n",
       "      dtype=object)"
      ]
     },
     "execution_count": 9,
     "metadata": {},
     "output_type": "execute_result"
    }
   ],
   "source": [
    "df[\"ParentEduc\"].unique()"
   ]
  },
  {
   "cell_type": "code",
   "execution_count": 10,
   "id": "fb2ffeea",
   "metadata": {},
   "outputs": [],
   "source": [
    "le.fit([\"some high school\",\"high school\" ,\"some college\", \"associate's degree\", \"bachelor's degree\", \"master's degree\"])\n",
    "df[\"ParentEduc\"] = le.transform(df[\"ParentEduc\"])"
   ]
  },
  {
   "cell_type": "markdown",
   "id": "2d7d715c",
   "metadata": {},
   "source": [
    "#### TestPrep"
   ]
  },
  {
   "cell_type": "code",
   "execution_count": 11,
   "id": "98ab55ae",
   "metadata": {},
   "outputs": [
    {
     "data": {
      "text/plain": [
       "array(['none', 'completed'], dtype=object)"
      ]
     },
     "execution_count": 11,
     "metadata": {},
     "output_type": "execute_result"
    }
   ],
   "source": [
    "df[\"TestPrep\"].unique()"
   ]
  },
  {
   "cell_type": "code",
   "execution_count": 12,
   "id": "1bce8560",
   "metadata": {},
   "outputs": [],
   "source": [
    "le.fit(['none', 'completed'])\n",
    "df[\"TestPrep\"] = le.transform(df[\"TestPrep\"])"
   ]
  },
  {
   "cell_type": "markdown",
   "id": "b1927f70",
   "metadata": {},
   "source": [
    "#### PracticeSport"
   ]
  },
  {
   "cell_type": "code",
   "execution_count": 13,
   "id": "bb7897a8",
   "metadata": {},
   "outputs": [
    {
     "data": {
      "text/plain": [
       "array(['sometimes', 'regularly', 'never'], dtype=object)"
      ]
     },
     "execution_count": 13,
     "metadata": {},
     "output_type": "execute_result"
    }
   ],
   "source": [
    "df[\"PracticeSport\"].unique()"
   ]
  },
  {
   "cell_type": "code",
   "execution_count": 14,
   "id": "8b5207fc",
   "metadata": {},
   "outputs": [],
   "source": [
    "le.fit([\"never\", \"sometimes\", \"regularly\"])\n",
    "df[\"PracticeSport\"] = le.transform(df[\"PracticeSport\"])"
   ]
  },
  {
   "cell_type": "markdown",
   "id": "42f93a86",
   "metadata": {},
   "source": [
    "#### WklyStudyHours"
   ]
  },
  {
   "cell_type": "code",
   "execution_count": 15,
   "id": "fca62ca4",
   "metadata": {},
   "outputs": [
    {
     "data": {
      "text/plain": [
       "array(['< 5', '5 - 10', '> 10'], dtype=object)"
      ]
     },
     "execution_count": 15,
     "metadata": {},
     "output_type": "execute_result"
    }
   ],
   "source": [
    "df[\"WklyStudyHours\"].unique()"
   ]
  },
  {
   "cell_type": "code",
   "execution_count": 16,
   "id": "c016bd7c",
   "metadata": {},
   "outputs": [],
   "source": [
    "le.fit(['< 5', '5 - 10', '> 10'])\n",
    "df[\"WklyStudyHours\"] = le.transform(df[\"WklyStudyHours\"])"
   ]
  },
  {
   "cell_type": "markdown",
   "id": "932c9e10",
   "metadata": {},
   "source": [
    "### Nominal - Getdummies\n",
    "\n",
    "<p>\"Gender\"</p>\n",
    "<p>\"EthnicGroup\" </p>\n",
    "<p>\"LunchType\"</p>\n",
    "<p>\"ParentMaritalStat\"</p> \n",
    "<p>\"PracticeSport\"</p> \n",
    "<p>\"IsFirstChild\"</p>\n",
    "<p>\"TransportMeans\"</p>"
   ]
  },
  {
   "cell_type": "code",
   "execution_count": 17,
   "id": "1bc35415",
   "metadata": {},
   "outputs": [],
   "source": [
    "df = pd.get_dummies(df, columns=[\"Gender\", \"EthnicGroup\", \"LunchType\", \"ParentMaritalStatus\", \"PracticeSport\", \"IsFirstChild\", \"TransportMeans\"])"
   ]
  },
  {
   "cell_type": "code",
   "execution_count": 18,
   "id": "883c4e31",
   "metadata": {},
   "outputs": [
    {
     "name": "stdout",
     "output_type": "stream",
     "text": [
      "<class 'pandas.core.frame.DataFrame'>\n",
      "Int64Index: 19243 entries, 2 to 30640\n",
      "Data columns (total 27 columns):\n",
      " #   Column                        Non-Null Count  Dtype  \n",
      "---  ------                        --------------  -----  \n",
      " 0   ParentEduc                    19243 non-null  int32  \n",
      " 1   TestPrep                      19243 non-null  int32  \n",
      " 2   NrSiblings                    19243 non-null  float64\n",
      " 3   WklyStudyHours                19243 non-null  int32  \n",
      " 4   MathScore                     19243 non-null  int64  \n",
      " 5   ReadingScore                  19243 non-null  int64  \n",
      " 6   WritingScore                  19243 non-null  int64  \n",
      " 7   Gender_female                 19243 non-null  uint8  \n",
      " 8   Gender_male                   19243 non-null  uint8  \n",
      " 9   EthnicGroup_group A           19243 non-null  uint8  \n",
      " 10  EthnicGroup_group B           19243 non-null  uint8  \n",
      " 11  EthnicGroup_group C           19243 non-null  uint8  \n",
      " 12  EthnicGroup_group D           19243 non-null  uint8  \n",
      " 13  EthnicGroup_group E           19243 non-null  uint8  \n",
      " 14  LunchType_free/reduced        19243 non-null  uint8  \n",
      " 15  LunchType_standard            19243 non-null  uint8  \n",
      " 16  ParentMaritalStatus_divorced  19243 non-null  uint8  \n",
      " 17  ParentMaritalStatus_married   19243 non-null  uint8  \n",
      " 18  ParentMaritalStatus_single    19243 non-null  uint8  \n",
      " 19  ParentMaritalStatus_widowed   19243 non-null  uint8  \n",
      " 20  PracticeSport_0               19243 non-null  uint8  \n",
      " 21  PracticeSport_1               19243 non-null  uint8  \n",
      " 22  PracticeSport_2               19243 non-null  uint8  \n",
      " 23  IsFirstChild_no               19243 non-null  uint8  \n",
      " 24  IsFirstChild_yes              19243 non-null  uint8  \n",
      " 25  TransportMeans_private        19243 non-null  uint8  \n",
      " 26  TransportMeans_school_bus     19243 non-null  uint8  \n",
      "dtypes: float64(1), int32(3), int64(3), uint8(20)\n",
      "memory usage: 1.3 MB\n"
     ]
    }
   ],
   "source": [
    "df.info()"
   ]
  },
  {
   "cell_type": "code",
   "execution_count": 19,
   "id": "0d8f104a",
   "metadata": {},
   "outputs": [
    {
     "data": {
      "text/plain": [
       "Index(['ParentEduc', 'TestPrep', 'NrSiblings', 'WklyStudyHours', 'MathScore',\n",
       "       'ReadingScore', 'WritingScore', 'Gender_female', 'Gender_male',\n",
       "       'EthnicGroup_group A', 'EthnicGroup_group B', 'EthnicGroup_group C',\n",
       "       'EthnicGroup_group D', 'EthnicGroup_group E', 'LunchType_free/reduced',\n",
       "       'LunchType_standard', 'ParentMaritalStatus_divorced',\n",
       "       'ParentMaritalStatus_married', 'ParentMaritalStatus_single',\n",
       "       'ParentMaritalStatus_widowed', 'PracticeSport_0', 'PracticeSport_1',\n",
       "       'PracticeSport_2', 'IsFirstChild_no', 'IsFirstChild_yes',\n",
       "       'TransportMeans_private', 'TransportMeans_school_bus'],\n",
       "      dtype='object')"
      ]
     },
     "execution_count": 19,
     "metadata": {},
     "output_type": "execute_result"
    }
   ],
   "source": [
    "df.columns"
   ]
  },
  {
   "cell_type": "markdown",
   "id": "33c16bf6",
   "metadata": {},
   "source": [
    "# Decision Tree"
   ]
  },
  {
   "cell_type": "code",
   "execution_count": 20,
   "id": "1956c3b6",
   "metadata": {},
   "outputs": [],
   "source": [
    "import numpy as np\n",
    "import matplotlib.pyplot as plt\n",
    "import pandas as pd\n",
    "from sklearn.model_selection import train_test_split\n",
    "from sklearn.tree import DecisionTreeRegressor\n",
    "\n",
    "from sklearn.metrics import accuracy_score, precision_score, recall_score, confusion_matrix\n",
    "from sklearn.metrics import plot_confusion_matrix\n",
    "\n"
   ]
  },
  {
   "cell_type": "code",
   "execution_count": 21,
   "id": "01b4dea2",
   "metadata": {},
   "outputs": [],
   "source": [
    "# Separating the data into independent and dependent variables\n",
    "# Converting each dataframe into a numpy array\n",
    "# since each dataframe contains only one column\n",
    "\n",
    "RAND_STATE = 34 # for reproducible shuffling\n",
    "TT_RATIO = 0.3 # test/train\n",
    "\n",
    "dfX = df.drop('MathScore',axis=1)\n",
    "\n",
    "X=dfX\n",
    "y=df['MathScore'] \n",
    "\n",
    "# Splitting the data into training and testing data\n",
    "X_train, X_test, y_train, y_test = train_test_split(X, y, test_size=TT_RATIO, random_state=RAND_STATE)\n"
   ]
  },
  {
   "cell_type": "markdown",
   "id": "7f506373",
   "metadata": {},
   "source": [
    "## Model Development"
   ]
  },
  {
   "cell_type": "code",
   "execution_count": 43,
   "id": "b4fa3930",
   "metadata": {},
   "outputs": [],
   "source": [
    "model = DecisionTreeRegressor(max_depth=3)\n",
    "\n",
    "model.fit(X_train, y_train)\n",
    "\n",
    "y_pred_train = model.predict(X_train)\n",
    "y_pred_test  = model.predict(X_test)\n"
   ]
  },
  {
   "cell_type": "markdown",
   "id": "825fde4b",
   "metadata": {},
   "source": [
    "## Model Validation"
   ]
  },
  {
   "cell_type": "code",
   "execution_count": 45,
   "id": "7755c737",
   "metadata": {},
   "outputs": [],
   "source": [
    "from sklearn.metrics import mean_absolute_error, mean_squared_error, r2_score\n",
    "\n",
    "def performance_model(y_train, y_test, y_pred_train, y_pred_test):\n",
    "\n",
    "    # Model validation y_train - y_pred_train\n",
    "    ME_train = np.mean(y_train-y_pred_train)\n",
    "    ME_test  = np.mean(y_test-y_pred_test)\n",
    "\n",
    "    MAE_train = mean_absolute_error(y_train,y_pred_train)\n",
    "    MAE_test  = mean_absolute_error(y_test,y_pred_test)\n",
    "\n",
    "    MSE_train = mean_squared_error(y_train,y_pred_train)\n",
    "    MSE_test  = mean_squared_error(y_test,y_pred_test)\n",
    "\n",
    "    RMSE_train = np.sqrt(MSE_train)\n",
    "    RMSE_test  = np.sqrt(MSE_test)\n",
    "\n",
    "    MAPE_train = np.mean((np.abs(y_train-y_pred_train) / y_train)* 100.)\n",
    "    MAPE_test  = np.mean((np.abs(y_test-y_pred_test) / y_test)* 100.)\n",
    "\n",
    "    R2_train = r2_score(y_train,y_pred_train)\n",
    "    R2_test  = r2_score(y_test,y_pred_test)\n",
    "\n",
    "    performance = pd.DataFrame({'Error_metric': ['Mean error','Mean absolute error','Mean squared error',\n",
    "                                             'Root mean squared error','Mean absolute percentual error',\n",
    "                                             'R2'],\n",
    "                            'Train': [ME_train, MAE_train, MSE_train, RMSE_train, MAPE_train, R2_train],\n",
    "                            'Test' : [ME_test, MAE_test , MSE_test, RMSE_test, MAPE_test, R2_test]})\n",
    "\n",
    "    pd.options.display.float_format = '{:.2f}'.format\n",
    "\n",
    "\n",
    "    df_train = pd.DataFrame({'Real_value': y_train, 'Predicted_value': y_pred_train})\n",
    "    df_test  = pd.DataFrame({'Real_value': y_test,  'Predicted_value': y_pred_test})\n",
    "\n",
    "    return performance, df_train, df_test"
   ]
  },
  {
   "cell_type": "markdown",
   "id": "ce7a6166",
   "metadata": {},
   "source": [
    "## Performance"
   ]
  },
  {
   "cell_type": "code",
   "execution_count": 46,
   "id": "80a9dbae",
   "metadata": {},
   "outputs": [
    {
     "data": {
      "text/html": [
       "<div>\n",
       "<style scoped>\n",
       "    .dataframe tbody tr th:only-of-type {\n",
       "        vertical-align: middle;\n",
       "    }\n",
       "\n",
       "    .dataframe tbody tr th {\n",
       "        vertical-align: top;\n",
       "    }\n",
       "\n",
       "    .dataframe thead th {\n",
       "        text-align: right;\n",
       "    }\n",
       "</style>\n",
       "<table border=\"1\" class=\"dataframe\">\n",
       "  <thead>\n",
       "    <tr style=\"text-align: right;\">\n",
       "      <th></th>\n",
       "      <th>Error_metric</th>\n",
       "      <th>Train</th>\n",
       "      <th>Test</th>\n",
       "    </tr>\n",
       "  </thead>\n",
       "  <tbody>\n",
       "    <tr>\n",
       "      <th>0</th>\n",
       "      <td>Mean error</td>\n",
       "      <td>0.00</td>\n",
       "      <td>-0.06</td>\n",
       "    </tr>\n",
       "    <tr>\n",
       "      <th>1</th>\n",
       "      <td>Mean absolute error</td>\n",
       "      <td>6.54</td>\n",
       "      <td>6.50</td>\n",
       "    </tr>\n",
       "    <tr>\n",
       "      <th>2</th>\n",
       "      <td>Mean squared error</td>\n",
       "      <td>66.19</td>\n",
       "      <td>65.98</td>\n",
       "    </tr>\n",
       "    <tr>\n",
       "      <th>3</th>\n",
       "      <td>Root mean squared error</td>\n",
       "      <td>8.14</td>\n",
       "      <td>8.12</td>\n",
       "    </tr>\n",
       "    <tr>\n",
       "      <th>4</th>\n",
       "      <td>Mean absolute percentual error</td>\n",
       "      <td>inf</td>\n",
       "      <td>10.97</td>\n",
       "    </tr>\n",
       "    <tr>\n",
       "      <th>5</th>\n",
       "      <td>R2</td>\n",
       "      <td>0.72</td>\n",
       "      <td>0.72</td>\n",
       "    </tr>\n",
       "  </tbody>\n",
       "</table>\n",
       "</div>"
      ],
      "text/plain": [
       "                     Error_metric  Train  Test\n",
       "0                      Mean error   0.00 -0.06\n",
       "1             Mean absolute error   6.54  6.50\n",
       "2              Mean squared error  66.19 65.98\n",
       "3         Root mean squared error   8.14  8.12\n",
       "4  Mean absolute percentual error    inf 10.97\n",
       "5                              R2   0.72  0.72"
      ]
     },
     "execution_count": 46,
     "metadata": {},
     "output_type": "execute_result"
    }
   ],
   "source": [
    "performance, _ ,_ = performance_model(y_train, y_test, y_pred_train, y_pred_test)\n",
    "performance"
   ]
  },
  {
   "cell_type": "markdown",
   "id": "9d1465e0",
   "metadata": {},
   "source": [
    "## Visualizing the decision tree"
   ]
  },
  {
   "cell_type": "code",
   "execution_count": 47,
   "id": "d052c31f",
   "metadata": {},
   "outputs": [
    {
     "data": {
      "image/png": "[encoded data removed]",
      "text/plain": [
       "<Figure size 1440x720 with 1 Axes>"
      ]
     },
     "metadata": {
      "needs_background": "light"
     },
     "output_type": "display_data"
    }
   ],
   "source": [
    "from sklearn.tree import plot_tree\n",
    "fig, axes = plt.subplots(nrows = 1,ncols = 1,figsize = (20,10))\n",
    "\n",
    "plot_tree(model,filled = True, rounded=True)\n",
    "plt.show()"
   ]
  },
  {
   "cell_type": "markdown",
   "id": "ff6cd309",
   "metadata": {},
   "source": [
    "### OLS"
   ]
  },
  {
   "cell_type": "code",
   "execution_count": 49,
   "id": "3c4bb18d",
   "metadata": {},
   "outputs": [
    {
     "name": "stdout",
     "output_type": "stream",
     "text": [
      "                            OLS Regression Results                            \n",
      "==============================================================================\n",
      "Dep. Variable:              MathScore   R-squared:                       0.874\n",
      "Model:                            OLS   Adj. R-squared:                  0.874\n",
      "Method:                 Least Squares   F-statistic:                     4921.\n",
      "Date:                Fri, 12 May 2023   Prob (F-statistic):               0.00\n",
      "Time:                        16:26:37   Log-Likelihood:                -41941.\n",
      "No. Observations:               13470   AIC:                         8.392e+04\n",
      "Df Residuals:                   13450   BIC:                         8.407e+04\n",
      "Df Model:                          19                                         \n",
      "Covariance Type:            nonrobust                                         \n",
      "==============================================================================\n",
      "                 coef    std err          t      P>|t|      [0.025      0.975]\n",
      "------------------------------------------------------------------------------\n",
      "const         -0.0087      0.085     -0.103      0.918      -0.175       0.157\n",
      "x1            -0.0053      0.026     -0.199      0.842      -0.057       0.047\n",
      "x2             3.4650      0.109     31.889      0.000       3.252       3.678\n",
      "x3            -0.0097      0.033     -0.297      0.767      -0.074       0.054\n",
      "x4             0.1315      0.061      2.141      0.032       0.011       0.252\n",
      "x5             0.2661      0.011     23.872      0.000       0.244       0.288\n",
      "x6             0.6637      0.011     58.870      0.000       0.642       0.686\n",
      "x7            -6.4149      0.074    -86.879      0.000      -6.560      -6.270\n",
      "x8             6.4063      0.057    112.590      0.000       6.295       6.518\n",
      "x9            -0.9664      0.143     -6.750      0.000      -1.247      -0.686\n",
      "x10           -1.0308      0.097    -10.640      0.000      -1.221      -0.841\n",
      "x11           -1.0561      0.084    -12.635      0.000      -1.220      -0.892\n",
      "x12           -1.2264      0.094    -13.096      0.000      -1.410      -1.043\n",
      "x13            4.2710      0.115     37.067      0.000       4.045       4.497\n",
      "x14           -1.9833      0.059    -33.474      0.000      -2.099      -1.867\n",
      "x15            1.9746      0.074     26.724      0.000       1.830       2.119\n",
      "x16           -0.0054      0.123     -0.044      0.965      -0.246       0.235\n",
      "x17           -0.0306      0.100     -0.305      0.760      -0.228       0.166\n",
      "x18           -0.1507      0.114     -1.321      0.186      -0.374       0.073\n",
      "x19            0.1781      0.264      0.676      0.499      -0.339       0.695\n",
      "x20           -0.8307      0.098     -8.464      0.000      -1.023      -0.638\n",
      "x21            0.5283      0.077      6.850      0.000       0.377       0.679\n",
      "x22            0.2937      0.070      4.173      0.000       0.156       0.432\n",
      "x23           -0.0618      0.067     -0.924      0.356      -0.193       0.069\n",
      "x24            0.0532      0.063      0.842      0.400      -0.071       0.177\n",
      "x25            0.0280      0.064      0.436      0.663      -0.098       0.154\n",
      "x26           -0.0366      0.063     -0.577      0.564      -0.161       0.088\n",
      "==============================================================================\n",
      "Omnibus:                        7.443   Durbin-Watson:                   1.985\n",
      "Prob(Omnibus):                  0.024   Jarque-Bera (JB):                7.081\n",
      "Skew:                          -0.031   Prob(JB):                       0.0290\n",
      "Kurtosis:                       2.906   Cond. No.                     1.48e+17\n",
      "==============================================================================\n",
      "\n",
      "Notes:\n",
      "[1] Standard Errors assume that the covariance matrix of the errors is correctly specified.\n",
      "[2] The smallest eigenvalue is 6.17e-27. This might indicate that there are\n",
      "strong multicollinearity problems or that the design matrix is singular.\n"
     ]
    }
   ],
   "source": [
    "import statsmodels.api as sm\n",
    "X_train_const_ct = sm.add_constant(X_train.to_numpy()) \n",
    "\n",
    "model = sm.OLS(y_train, X_train_const_ct).fit()\n",
    "predictions_train = model.predict(X_train_const_ct)\n",
    "\n",
    "X_test_const_ct = sm.add_constant(X_test) \n",
    "predictions_test = model.predict(X_test_const_ct)\n",
    "print_model = model.summary()\n",
    "print(print_model)"
   ]
  },
  {
   "cell_type": "code",
   "execution_count": null,
   "id": "9a03a176",
   "metadata": {},
   "outputs": [],
   "source": []
  }
 ],
 "metadata": {
  "kernelspec": {
   "display_name": "Python 3 (ipykernel)",
   "language": "python",
   "name": "python3"
  },
  "language_info": {
   "codemirror_mode": {
    "name": "ipython",
    "version": 3
   },
   "file_extension": ".py",
   "mimetype": "text/x-python",
   "name": "python",
   "nbconvert_exporter": "python",
   "pygments_lexer": "ipython3",
   "version": "3.9.12"
  }
 },
 "nbformat": 4,
 "nbformat_minor": 5
}
