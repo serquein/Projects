{
 "cells": [
  {
   "cell_type": "markdown",
   "id": "78187b99",
   "metadata": {},
   "source": [
    "## What are the variables that have the greatest influence on math grades?\n",
    "## Is it possible to predict student grades based on these variables?"
   ]
  },
  {
   "cell_type": "code",
   "execution_count": 1,
   "id": "2fcea72d",
   "metadata": {},
   "outputs": [],
   "source": [
    "import pandas as pd\n",
    "df = pd.read_csv(\"Expanded_data_with_more_features.csv\")"
   ]
  },
  {
   "cell_type": "code",
   "execution_count": 2,
   "id": "506bf2d8",
   "metadata": {},
   "outputs": [
    {
     "data": {
      "text/plain": [
       "Unnamed: 0               int64\n",
       "Gender                  object\n",
       "EthnicGroup             object\n",
       "ParentEduc              object\n",
       "LunchType               object\n",
       "TestPrep                object\n",
       "ParentMaritalStatus     object\n",
       "PracticeSport           object\n",
       "IsFirstChild            object\n",
       "NrSiblings             float64\n",
       "TransportMeans          object\n",
       "WklyStudyHours          object\n",
       "MathScore                int64\n",
       "ReadingScore             int64\n",
       "WritingScore             int64\n",
       "dtype: object"
      ]
     },
     "execution_count": 2,
     "metadata": {},
     "output_type": "execute_result"
    }
   ],
   "source": [
    "df.dtypes"
   ]
  },
  {
   "cell_type": "markdown",
   "id": "81a23d0e",
   "metadata": {},
   "source": [
    "# Data Cleaning"
   ]
  },
  {
   "cell_type": "code",
   "execution_count": 3,
   "id": "8ad5098f",
   "metadata": {},
   "outputs": [
    {
     "data": {
      "text/plain": [
       "Unnamed: 0                0\n",
       "Gender                    0\n",
       "EthnicGroup            1840\n",
       "ParentEduc             1845\n",
       "LunchType                 0\n",
       "TestPrep               1830\n",
       "ParentMaritalStatus    1190\n",
       "PracticeSport           631\n",
       "IsFirstChild            904\n",
       "NrSiblings             1572\n",
       "TransportMeans         3134\n",
       "WklyStudyHours          955\n",
       "MathScore                 0\n",
       "ReadingScore              0\n",
       "WritingScore              0\n",
       "dtype: int64"
      ]
     },
     "execution_count": 3,
     "metadata": {},
     "output_type": "execute_result"
    }
   ],
   "source": [
    "df.isna().sum()"
   ]
  },
  {
   "cell_type": "markdown",
   "id": "01e15bf7",
   "metadata": {},
   "source": [
    "## Drop Columns"
   ]
  },
  {
   "cell_type": "code",
   "execution_count": 4,
   "id": "ed084fe2",
   "metadata": {},
   "outputs": [],
   "source": [
    "df = df.drop(\"Unnamed: 0\", axis=1)"
   ]
  },
  {
   "cell_type": "markdown",
   "id": "56fb2fd9",
   "metadata": {},
   "source": [
    "## Drop NaNs"
   ]
  },
  {
   "cell_type": "code",
   "execution_count": 5,
   "id": "f597b422",
   "metadata": {},
   "outputs": [],
   "source": [
    "cols_to_drop = [\"EthnicGroup\",\"ParentEduc\",\"TestPrep\",\"ParentMaritalStatus\",\"PracticeSport\", \"IsFirstChild\",\"NrSiblings\",\"TransportMeans\",\"WklyStudyHours\"]\n",
    "df = df.dropna(subset=cols_to_drop, axis=0)"
   ]
  },
  {
   "cell_type": "code",
   "execution_count": 6,
   "id": "91dcfe88",
   "metadata": {},
   "outputs": [
    {
     "data": {
      "text/plain": [
       "Gender                 0\n",
       "EthnicGroup            0\n",
       "ParentEduc             0\n",
       "LunchType              0\n",
       "TestPrep               0\n",
       "ParentMaritalStatus    0\n",
       "PracticeSport          0\n",
       "IsFirstChild           0\n",
       "NrSiblings             0\n",
       "TransportMeans         0\n",
       "WklyStudyHours         0\n",
       "MathScore              0\n",
       "ReadingScore           0\n",
       "WritingScore           0\n",
       "dtype: int64"
      ]
     },
     "execution_count": 6,
     "metadata": {},
     "output_type": "execute_result"
    }
   ],
   "source": [
    "df.isna().sum()"
   ]
  },
  {
   "cell_type": "code",
   "execution_count": 7,
   "id": "6e50fd7f",
   "metadata": {},
   "outputs": [
    {
     "data": {
      "text/html": [
       "<div>\n",
       "<style scoped>\n",
       "    .dataframe tbody tr th:only-of-type {\n",
       "        vertical-align: middle;\n",
       "    }\n",
       "\n",
       "    .dataframe tbody tr th {\n",
       "        vertical-align: top;\n",
       "    }\n",
       "\n",
       "    .dataframe thead th {\n",
       "        text-align: right;\n",
       "    }\n",
       "</style>\n",
       "<table border=\"1\" class=\"dataframe\">\n",
       "  <thead>\n",
       "    <tr style=\"text-align: right;\">\n",
       "      <th></th>\n",
       "      <th>Gender</th>\n",
       "      <th>EthnicGroup</th>\n",
       "      <th>ParentEduc</th>\n",
       "      <th>LunchType</th>\n",
       "      <th>TestPrep</th>\n",
       "      <th>ParentMaritalStatus</th>\n",
       "      <th>PracticeSport</th>\n",
       "      <th>IsFirstChild</th>\n",
       "      <th>NrSiblings</th>\n",
       "      <th>TransportMeans</th>\n",
       "      <th>WklyStudyHours</th>\n",
       "      <th>MathScore</th>\n",
       "      <th>ReadingScore</th>\n",
       "      <th>WritingScore</th>\n",
       "    </tr>\n",
       "  </thead>\n",
       "  <tbody>\n",
       "    <tr>\n",
       "      <th>2</th>\n",
       "      <td>female</td>\n",
       "      <td>group B</td>\n",
       "      <td>master's degree</td>\n",
       "      <td>standard</td>\n",
       "      <td>none</td>\n",
       "      <td>single</td>\n",
       "      <td>sometimes</td>\n",
       "      <td>yes</td>\n",
       "      <td>4.0</td>\n",
       "      <td>school_bus</td>\n",
       "      <td>&lt; 5</td>\n",
       "      <td>87</td>\n",
       "      <td>93</td>\n",
       "      <td>91</td>\n",
       "    </tr>\n",
       "    <tr>\n",
       "      <th>4</th>\n",
       "      <td>male</td>\n",
       "      <td>group C</td>\n",
       "      <td>some college</td>\n",
       "      <td>standard</td>\n",
       "      <td>none</td>\n",
       "      <td>married</td>\n",
       "      <td>sometimes</td>\n",
       "      <td>yes</td>\n",
       "      <td>0.0</td>\n",
       "      <td>school_bus</td>\n",
       "      <td>5 - 10</td>\n",
       "      <td>76</td>\n",
       "      <td>78</td>\n",
       "      <td>75</td>\n",
       "    </tr>\n",
       "    <tr>\n",
       "      <th>5</th>\n",
       "      <td>female</td>\n",
       "      <td>group B</td>\n",
       "      <td>associate's degree</td>\n",
       "      <td>standard</td>\n",
       "      <td>none</td>\n",
       "      <td>married</td>\n",
       "      <td>regularly</td>\n",
       "      <td>yes</td>\n",
       "      <td>1.0</td>\n",
       "      <td>school_bus</td>\n",
       "      <td>5 - 10</td>\n",
       "      <td>73</td>\n",
       "      <td>84</td>\n",
       "      <td>79</td>\n",
       "    </tr>\n",
       "    <tr>\n",
       "      <th>6</th>\n",
       "      <td>female</td>\n",
       "      <td>group B</td>\n",
       "      <td>some college</td>\n",
       "      <td>standard</td>\n",
       "      <td>completed</td>\n",
       "      <td>widowed</td>\n",
       "      <td>never</td>\n",
       "      <td>no</td>\n",
       "      <td>1.0</td>\n",
       "      <td>private</td>\n",
       "      <td>5 - 10</td>\n",
       "      <td>85</td>\n",
       "      <td>93</td>\n",
       "      <td>89</td>\n",
       "    </tr>\n",
       "    <tr>\n",
       "      <th>7</th>\n",
       "      <td>male</td>\n",
       "      <td>group B</td>\n",
       "      <td>some college</td>\n",
       "      <td>free/reduced</td>\n",
       "      <td>none</td>\n",
       "      <td>married</td>\n",
       "      <td>sometimes</td>\n",
       "      <td>yes</td>\n",
       "      <td>1.0</td>\n",
       "      <td>private</td>\n",
       "      <td>&gt; 10</td>\n",
       "      <td>41</td>\n",
       "      <td>43</td>\n",
       "      <td>39</td>\n",
       "    </tr>\n",
       "  </tbody>\n",
       "</table>\n",
       "</div>"
      ],
      "text/plain": [
       "   Gender EthnicGroup          ParentEduc     LunchType   TestPrep  \\\n",
       "2  female     group B     master's degree      standard       none   \n",
       "4    male     group C        some college      standard       none   \n",
       "5  female     group B  associate's degree      standard       none   \n",
       "6  female     group B        some college      standard  completed   \n",
       "7    male     group B        some college  free/reduced       none   \n",
       "\n",
       "  ParentMaritalStatus PracticeSport IsFirstChild  NrSiblings TransportMeans  \\\n",
       "2              single     sometimes          yes         4.0     school_bus   \n",
       "4             married     sometimes          yes         0.0     school_bus   \n",
       "5             married     regularly          yes         1.0     school_bus   \n",
       "6             widowed         never           no         1.0        private   \n",
       "7             married     sometimes          yes         1.0        private   \n",
       "\n",
       "  WklyStudyHours  MathScore  ReadingScore  WritingScore  \n",
       "2            < 5         87            93            91  \n",
       "4         5 - 10         76            78            75  \n",
       "5         5 - 10         73            84            79  \n",
       "6         5 - 10         85            93            89  \n",
       "7           > 10         41            43            39  "
      ]
     },
     "execution_count": 7,
     "metadata": {},
     "output_type": "execute_result"
    }
   ],
   "source": [
    "df.head()"
   ]
  },
  {
   "cell_type": "markdown",
   "id": "b643bb89",
   "metadata": {},
   "source": [
    "# Type of data"
   ]
  },
  {
   "cell_type": "markdown",
   "id": "f8b4fd2e",
   "metadata": {},
   "source": [
    "Data - Categorical - Ordinal = \"ParentEduc\", \"TestPrep\", \"PracticeSport\"\n",
    "Data - Categorical - Nominal = \"Gender\", \"EthnicGroup\", \"LunchType\", \"ParentMaritalStat\", \"PracticeSport\", \"IsFirstChild\", \"TransportMeans\"] \n",
    "Data - Numerical - Discrete = \"WklyStudyHours\", \"NrSiblings\"\n",
    "Data - Numerical - Continuous = \"MathScore\",\"ReadingScore\",\"WritingScore \""
   ]
  },
  {
   "cell_type": "markdown",
   "id": "76162f32",
   "metadata": {},
   "source": [
    "## Transformation of Categorical data "
   ]
  },
  {
   "cell_type": "markdown",
   "id": "7d0ef977",
   "metadata": {},
   "source": [
    "### Ordinal data - Label incoding\n",
    "<p>\"ParentEduc\"</p> \n",
    "<p>\"TestPrep\"</p>\n",
    "<p>\"PracticeSport\"</p>"
   ]
  },
  {
   "cell_type": "code",
   "execution_count": 8,
   "id": "8663fdba",
   "metadata": {},
   "outputs": [],
   "source": [
    "from sklearn.preprocessing import LabelEncoder\n",
    "le = LabelEncoder()"
   ]
  },
  {
   "cell_type": "markdown",
   "id": "3a42b7f8",
   "metadata": {},
   "source": [
    "#### ParentEduc"
   ]
  },
  {
   "cell_type": "code",
   "execution_count": 9,
   "id": "4b940ea2",
   "metadata": {},
   "outputs": [
    {
     "data": {
      "text/plain": [
       "array([\"master's degree\", 'some college', \"associate's degree\",\n",
       "       'high school', 'some high school', \"bachelor's degree\"],\n",
       "      dtype=object)"
      ]
     },
     "execution_count": 9,
     "metadata": {},
     "output_type": "execute_result"
    }
   ],
   "source": [
    "df[\"ParentEduc\"].unique()"
   ]
  },
  {
   "cell_type": "code",
   "execution_count": 10,
   "id": "fb2ffeea",
   "metadata": {},
   "outputs": [],
   "source": [
    "le.fit([\"some high school\",\"high school\" ,\"some college\", \"associate's degree\", \"bachelor's degree\", \"master's degree\"])\n",
    "df[\"ParentEduc\"] = le.transform(df[\"ParentEduc\"])"
   ]
  },
  {
   "cell_type": "markdown",
   "id": "2d7d715c",
   "metadata": {},
   "source": [
    "#### TestPrep"
   ]
  },
  {
   "cell_type": "code",
   "execution_count": 11,
   "id": "98ab55ae",
   "metadata": {},
   "outputs": [
    {
     "data": {
      "text/plain": [
       "array(['none', 'completed'], dtype=object)"
      ]
     },
     "execution_count": 11,
     "metadata": {},
     "output_type": "execute_result"
    }
   ],
   "source": [
    "df[\"TestPrep\"].unique()"
   ]
  },
  {
   "cell_type": "code",
   "execution_count": 12,
   "id": "1bce8560",
   "metadata": {},
   "outputs": [],
   "source": [
    "le.fit(['none', 'completed'])\n",
    "df[\"TestPrep\"] = le.transform(df[\"TestPrep\"])"
   ]
  },
  {
   "cell_type": "markdown",
   "id": "b1927f70",
   "metadata": {},
   "source": [
    "#### PracticeSport"
   ]
  },
  {
   "cell_type": "code",
   "execution_count": 13,
   "id": "bb7897a8",
   "metadata": {},
   "outputs": [
    {
     "data": {
      "text/plain": [
       "array(['sometimes', 'regularly', 'never'], dtype=object)"
      ]
     },
     "execution_count": 13,
     "metadata": {},
     "output_type": "execute_result"
    }
   ],
   "source": [
    "df[\"PracticeSport\"].unique()"
   ]
  },
  {
   "cell_type": "code",
   "execution_count": 14,
   "id": "8b5207fc",
   "metadata": {},
   "outputs": [],
   "source": [
    "le.fit([\"never\", \"sometimes\", \"regularly\"])\n",
    "df[\"PracticeSport\"] = le.transform(df[\"PracticeSport\"])"
   ]
  },
  {
   "cell_type": "markdown",
   "id": "42f93a86",
   "metadata": {},
   "source": [
    "#### WklyStudyHours"
   ]
  },
  {
   "cell_type": "code",
   "execution_count": 15,
   "id": "fca62ca4",
   "metadata": {},
   "outputs": [
    {
     "data": {
      "text/plain": [
       "array(['< 5', '5 - 10', '> 10'], dtype=object)"
      ]
     },
     "execution_count": 15,
     "metadata": {},
     "output_type": "execute_result"
    }
   ],
   "source": [
    "df[\"WklyStudyHours\"].unique()"
   ]
  },
  {
   "cell_type": "code",
   "execution_count": 16,
   "id": "c016bd7c",
   "metadata": {},
   "outputs": [],
   "source": [
    "le.fit(['< 5', '5 - 10', '> 10'])\n",
    "df[\"WklyStudyHours\"] = le.transform(df[\"WklyStudyHours\"])"
   ]
  },
  {
   "cell_type": "markdown",
   "id": "932c9e10",
   "metadata": {},
   "source": [
    "### Nominal - Getdummies\n",
    "\n",
    "<p>\"Gender\"</p>\n",
    "<p>\"EthnicGroup\" </p>\n",
    "<p>\"LunchType\"</p>\n",
    "<p>\"ParentMaritalStat\"</p> \n",
    "<p>\"PracticeSport\"</p> \n",
    "<p>\"IsFirstChild\"</p>\n",
    "<p>\"TransportMeans\"</p>"
   ]
  },
  {
   "cell_type": "code",
   "execution_count": 17,
   "id": "1bc35415",
   "metadata": {},
   "outputs": [],
   "source": [
    "df = pd.get_dummies(df, columns=[\"Gender\", \"EthnicGroup\", \"LunchType\", \"ParentMaritalStatus\", \"PracticeSport\", \"IsFirstChild\", \"TransportMeans\"])"
   ]
  },
  {
   "cell_type": "code",
   "execution_count": 18,
   "id": "883c4e31",
   "metadata": {},
   "outputs": [
    {
     "name": "stdout",
     "output_type": "stream",
     "text": [
      "<class 'pandas.core.frame.DataFrame'>\n",
      "Int64Index: 19243 entries, 2 to 30640\n",
      "Data columns (total 27 columns):\n",
      " #   Column                        Non-Null Count  Dtype  \n",
      "---  ------                        --------------  -----  \n",
      " 0   ParentEduc                    19243 non-null  int32  \n",
      " 1   TestPrep                      19243 non-null  int32  \n",
      " 2   NrSiblings                    19243 non-null  float64\n",
      " 3   WklyStudyHours                19243 non-null  int32  \n",
      " 4   MathScore                     19243 non-null  int64  \n",
      " 5   ReadingScore                  19243 non-null  int64  \n",
      " 6   WritingScore                  19243 non-null  int64  \n",
      " 7   Gender_female                 19243 non-null  uint8  \n",
      " 8   Gender_male                   19243 non-null  uint8  \n",
      " 9   EthnicGroup_group A           19243 non-null  uint8  \n",
      " 10  EthnicGroup_group B           19243 non-null  uint8  \n",
      " 11  EthnicGroup_group C           19243 non-null  uint8  \n",
      " 12  EthnicGroup_group D           19243 non-null  uint8  \n",
      " 13  EthnicGroup_group E           19243 non-null  uint8  \n",
      " 14  LunchType_free/reduced        19243 non-null  uint8  \n",
      " 15  LunchType_standard            19243 non-null  uint8  \n",
      " 16  ParentMaritalStatus_divorced  19243 non-null  uint8  \n",
      " 17  ParentMaritalStatus_married   19243 non-null  uint8  \n",
      " 18  ParentMaritalStatus_single    19243 non-null  uint8  \n",
      " 19  ParentMaritalStatus_widowed   19243 non-null  uint8  \n",
      " 20  PracticeSport_0               19243 non-null  uint8  \n",
      " 21  PracticeSport_1               19243 non-null  uint8  \n",
      " 22  PracticeSport_2               19243 non-null  uint8  \n",
      " 23  IsFirstChild_no               19243 non-null  uint8  \n",
      " 24  IsFirstChild_yes              19243 non-null  uint8  \n",
      " 25  TransportMeans_private        19243 non-null  uint8  \n",
      " 26  TransportMeans_school_bus     19243 non-null  uint8  \n",
      "dtypes: float64(1), int32(3), int64(3), uint8(20)\n",
      "memory usage: 1.3 MB\n"
     ]
    }
   ],
   "source": [
    "df.info()"
   ]
  },
  {
   "cell_type": "code",
   "execution_count": 19,
   "id": "0d8f104a",
   "metadata": {},
   "outputs": [
    {
     "data": {
      "text/plain": [
       "Index(['ParentEduc', 'TestPrep', 'NrSiblings', 'WklyStudyHours', 'MathScore',\n",
       "       'ReadingScore', 'WritingScore', 'Gender_female', 'Gender_male',\n",
       "       'EthnicGroup_group A', 'EthnicGroup_group B', 'EthnicGroup_group C',\n",
       "       'EthnicGroup_group D', 'EthnicGroup_group E', 'LunchType_free/reduced',\n",
       "       'LunchType_standard', 'ParentMaritalStatus_divorced',\n",
       "       'ParentMaritalStatus_married', 'ParentMaritalStatus_single',\n",
       "       'ParentMaritalStatus_widowed', 'PracticeSport_0', 'PracticeSport_1',\n",
       "       'PracticeSport_2', 'IsFirstChild_no', 'IsFirstChild_yes',\n",
       "       'TransportMeans_private', 'TransportMeans_school_bus'],\n",
       "      dtype='object')"
      ]
     },
     "execution_count": 19,
     "metadata": {},
     "output_type": "execute_result"
    }
   ],
   "source": [
    "df.columns"
   ]
  },
  {
   "cell_type": "markdown",
   "id": "33c16bf6",
   "metadata": {},
   "source": [
    "# Decision Tree"
   ]
  },
  {
   "cell_type": "code",
   "execution_count": 20,
   "id": "c97aa4b3",
   "metadata": {},
   "outputs": [],
   "source": [
    "import numpy as np\n",
    "import matplotlib.pyplot as plt\n",
    "import pandas as pd"
   ]
  },
  {
   "cell_type": "code",
   "execution_count": 21,
   "id": "01b4dea2",
   "metadata": {},
   "outputs": [],
   "source": [
    "# Separating the data into independent and dependent variables\n",
    "# Converting each dataframe into a numpy array\n",
    "# since each dataframe contains only one column\n",
    "\n",
    "RAND_STATE = 34 # for reproducible shuffling\n",
    "TT_RATIO = 0.3 # test/train\n",
    "\n",
    "dfX = df.drop('MathScore',axis=1)\n",
    "\n",
    "X=dfX\n",
    "y=df['MathScore'] \n",
    "\n",
    "# Splitting the data into training and testing data\n",
    "X_train, X_test, y_train, y_test = train_test_split(X, y, test_size=TT_RATIO, random_state=RAND_STATE)\n"
   ]
  },
  {
   "cell_type": "markdown",
   "id": "7f506373",
   "metadata": {},
   "source": [
    "## Model Development"
   ]
  },
  {
   "cell_type": "code",
   "execution_count": 22,
   "id": "8d2d52ca",
   "metadata": {},
   "outputs": [
    {
     "ename": "ValueError",
     "evalue": "Target is multiclass but average='binary'. Please choose another average setting, one of [None, 'micro', 'macro', 'weighted'].",
     "output_type": "error",
     "traceback": [
      "\u001b[1;31m---------------------------------------------------------------------------\u001b[0m",
      "\u001b[1;31mValueError\u001b[0m                                Traceback (most recent call last)",
      "Input \u001b[1;32mIn [22]\u001b[0m, in \u001b[0;36m<cell line: 16>\u001b[1;34m()\u001b[0m\n\u001b[0;32m     12\u001b[0m y_pred_train_dt \u001b[38;5;241m=\u001b[39m model\u001b[38;5;241m.\u001b[39mpredict(X_train)\n\u001b[0;32m     13\u001b[0m y_pred_test_dt \u001b[38;5;241m=\u001b[39m model\u001b[38;5;241m.\u001b[39mpredict(X_test)\n\u001b[0;32m     16\u001b[0m performance_df \u001b[38;5;241m=\u001b[39m pd\u001b[38;5;241m.\u001b[39mDataFrame({\u001b[38;5;124m'\u001b[39m\u001b[38;5;124mError_metric\u001b[39m\u001b[38;5;124m'\u001b[39m: [\u001b[38;5;124m'\u001b[39m\u001b[38;5;124mAccuracy\u001b[39m\u001b[38;5;124m'\u001b[39m,\u001b[38;5;124m'\u001b[39m\u001b[38;5;124mPrecision\u001b[39m\u001b[38;5;124m'\u001b[39m,\u001b[38;5;124m'\u001b[39m\u001b[38;5;124mRecall\u001b[39m\u001b[38;5;124m'\u001b[39m],\n\u001b[0;32m     17\u001b[0m                                \u001b[38;5;124m'\u001b[39m\u001b[38;5;124mTrain\u001b[39m\u001b[38;5;124m'\u001b[39m: [accuracy_score(y_train, y_pred_train_dt),\n\u001b[1;32m---> 18\u001b[0m                                          \u001b[43mprecision_score\u001b[49m\u001b[43m(\u001b[49m\u001b[43my_train\u001b[49m\u001b[43m,\u001b[49m\u001b[43m \u001b[49m\u001b[43my_pred_train_dt\u001b[49m\u001b[43m)\u001b[49m,\n\u001b[0;32m     19\u001b[0m                                          recall_score(y_train, y_pred_train_dt)],\n\u001b[0;32m     20\u001b[0m                                \u001b[38;5;124m'\u001b[39m\u001b[38;5;124mTest\u001b[39m\u001b[38;5;124m'\u001b[39m: [accuracy_score(y_test, y_pred_test_dt),\n\u001b[0;32m     21\u001b[0m                                         precision_score(y_test, y_pred_test_dt),\n\u001b[0;32m     22\u001b[0m                                         recall_score(y_test, y_pred_test_dt)]})\n\u001b[0;32m     24\u001b[0m display(performance_df)\n\u001b[0;32m     26\u001b[0m fig, ax \u001b[38;5;241m=\u001b[39m plt\u001b[38;5;241m.\u001b[39msubplots(\u001b[38;5;241m1\u001b[39m,\u001b[38;5;241m2\u001b[39m, figsize\u001b[38;5;241m=\u001b[39m(\u001b[38;5;241m14\u001b[39m,\u001b[38;5;241m8\u001b[39m))\n",
      "File \u001b[1;32m~\\anaconda3\\lib\\site-packages\\sklearn\\metrics\\_classification.py:1757\u001b[0m, in \u001b[0;36mprecision_score\u001b[1;34m(y_true, y_pred, labels, pos_label, average, sample_weight, zero_division)\u001b[0m\n\u001b[0;32m   1628\u001b[0m \u001b[38;5;28;01mdef\u001b[39;00m \u001b[38;5;21mprecision_score\u001b[39m(\n\u001b[0;32m   1629\u001b[0m     y_true,\n\u001b[0;32m   1630\u001b[0m     y_pred,\n\u001b[1;32m   (...)\u001b[0m\n\u001b[0;32m   1636\u001b[0m     zero_division\u001b[38;5;241m=\u001b[39m\u001b[38;5;124m\"\u001b[39m\u001b[38;5;124mwarn\u001b[39m\u001b[38;5;124m\"\u001b[39m,\n\u001b[0;32m   1637\u001b[0m ):\n\u001b[0;32m   1638\u001b[0m     \u001b[38;5;124;03m\"\"\"Compute the precision.\u001b[39;00m\n\u001b[0;32m   1639\u001b[0m \n\u001b[0;32m   1640\u001b[0m \u001b[38;5;124;03m    The precision is the ratio ``tp / (tp + fp)`` where ``tp`` is the number of\u001b[39;00m\n\u001b[1;32m   (...)\u001b[0m\n\u001b[0;32m   1755\u001b[0m \u001b[38;5;124;03m    array([0.5, 1. , 1. ])\u001b[39;00m\n\u001b[0;32m   1756\u001b[0m \u001b[38;5;124;03m    \"\"\"\u001b[39;00m\n\u001b[1;32m-> 1757\u001b[0m     p, _, _, _ \u001b[38;5;241m=\u001b[39m \u001b[43mprecision_recall_fscore_support\u001b[49m\u001b[43m(\u001b[49m\n\u001b[0;32m   1758\u001b[0m \u001b[43m        \u001b[49m\u001b[43my_true\u001b[49m\u001b[43m,\u001b[49m\n\u001b[0;32m   1759\u001b[0m \u001b[43m        \u001b[49m\u001b[43my_pred\u001b[49m\u001b[43m,\u001b[49m\n\u001b[0;32m   1760\u001b[0m \u001b[43m        \u001b[49m\u001b[43mlabels\u001b[49m\u001b[38;5;241;43m=\u001b[39;49m\u001b[43mlabels\u001b[49m\u001b[43m,\u001b[49m\n\u001b[0;32m   1761\u001b[0m \u001b[43m        \u001b[49m\u001b[43mpos_label\u001b[49m\u001b[38;5;241;43m=\u001b[39;49m\u001b[43mpos_label\u001b[49m\u001b[43m,\u001b[49m\n\u001b[0;32m   1762\u001b[0m \u001b[43m        \u001b[49m\u001b[43maverage\u001b[49m\u001b[38;5;241;43m=\u001b[39;49m\u001b[43maverage\u001b[49m\u001b[43m,\u001b[49m\n\u001b[0;32m   1763\u001b[0m \u001b[43m        \u001b[49m\u001b[43mwarn_for\u001b[49m\u001b[38;5;241;43m=\u001b[39;49m\u001b[43m(\u001b[49m\u001b[38;5;124;43m\"\u001b[39;49m\u001b[38;5;124;43mprecision\u001b[39;49m\u001b[38;5;124;43m\"\u001b[39;49m\u001b[43m,\u001b[49m\u001b[43m)\u001b[49m\u001b[43m,\u001b[49m\n\u001b[0;32m   1764\u001b[0m \u001b[43m        \u001b[49m\u001b[43msample_weight\u001b[49m\u001b[38;5;241;43m=\u001b[39;49m\u001b[43msample_weight\u001b[49m\u001b[43m,\u001b[49m\n\u001b[0;32m   1765\u001b[0m \u001b[43m        \u001b[49m\u001b[43mzero_division\u001b[49m\u001b[38;5;241;43m=\u001b[39;49m\u001b[43mzero_division\u001b[49m\u001b[43m,\u001b[49m\n\u001b[0;32m   1766\u001b[0m \u001b[43m    \u001b[49m\u001b[43m)\u001b[49m\n\u001b[0;32m   1767\u001b[0m     \u001b[38;5;28;01mreturn\u001b[39;00m p\n",
      "File \u001b[1;32m~\\anaconda3\\lib\\site-packages\\sklearn\\metrics\\_classification.py:1544\u001b[0m, in \u001b[0;36mprecision_recall_fscore_support\u001b[1;34m(y_true, y_pred, beta, labels, pos_label, average, warn_for, sample_weight, zero_division)\u001b[0m\n\u001b[0;32m   1542\u001b[0m \u001b[38;5;28;01mif\u001b[39;00m beta \u001b[38;5;241m<\u001b[39m \u001b[38;5;241m0\u001b[39m:\n\u001b[0;32m   1543\u001b[0m     \u001b[38;5;28;01mraise\u001b[39;00m \u001b[38;5;167;01mValueError\u001b[39;00m(\u001b[38;5;124m\"\u001b[39m\u001b[38;5;124mbeta should be >=0 in the F-beta score\u001b[39m\u001b[38;5;124m\"\u001b[39m)\n\u001b[1;32m-> 1544\u001b[0m labels \u001b[38;5;241m=\u001b[39m \u001b[43m_check_set_wise_labels\u001b[49m\u001b[43m(\u001b[49m\u001b[43my_true\u001b[49m\u001b[43m,\u001b[49m\u001b[43m \u001b[49m\u001b[43my_pred\u001b[49m\u001b[43m,\u001b[49m\u001b[43m \u001b[49m\u001b[43maverage\u001b[49m\u001b[43m,\u001b[49m\u001b[43m \u001b[49m\u001b[43mlabels\u001b[49m\u001b[43m,\u001b[49m\u001b[43m \u001b[49m\u001b[43mpos_label\u001b[49m\u001b[43m)\u001b[49m\n\u001b[0;32m   1546\u001b[0m \u001b[38;5;66;03m# Calculate tp_sum, pred_sum, true_sum ###\u001b[39;00m\n\u001b[0;32m   1547\u001b[0m samplewise \u001b[38;5;241m=\u001b[39m average \u001b[38;5;241m==\u001b[39m \u001b[38;5;124m\"\u001b[39m\u001b[38;5;124msamples\u001b[39m\u001b[38;5;124m\"\u001b[39m\n",
      "File \u001b[1;32m~\\anaconda3\\lib\\site-packages\\sklearn\\metrics\\_classification.py:1365\u001b[0m, in \u001b[0;36m_check_set_wise_labels\u001b[1;34m(y_true, y_pred, average, labels, pos_label)\u001b[0m\n\u001b[0;32m   1363\u001b[0m         \u001b[38;5;28;01mif\u001b[39;00m y_type \u001b[38;5;241m==\u001b[39m \u001b[38;5;124m\"\u001b[39m\u001b[38;5;124mmulticlass\u001b[39m\u001b[38;5;124m\"\u001b[39m:\n\u001b[0;32m   1364\u001b[0m             average_options\u001b[38;5;241m.\u001b[39mremove(\u001b[38;5;124m\"\u001b[39m\u001b[38;5;124msamples\u001b[39m\u001b[38;5;124m\"\u001b[39m)\n\u001b[1;32m-> 1365\u001b[0m         \u001b[38;5;28;01mraise\u001b[39;00m \u001b[38;5;167;01mValueError\u001b[39;00m(\n\u001b[0;32m   1366\u001b[0m             \u001b[38;5;124m\"\u001b[39m\u001b[38;5;124mTarget is \u001b[39m\u001b[38;5;132;01m%s\u001b[39;00m\u001b[38;5;124m but average=\u001b[39m\u001b[38;5;124m'\u001b[39m\u001b[38;5;124mbinary\u001b[39m\u001b[38;5;124m'\u001b[39m\u001b[38;5;124m. Please \u001b[39m\u001b[38;5;124m\"\u001b[39m\n\u001b[0;32m   1367\u001b[0m             \u001b[38;5;124m\"\u001b[39m\u001b[38;5;124mchoose another average setting, one of \u001b[39m\u001b[38;5;132;01m%r\u001b[39;00m\u001b[38;5;124m.\u001b[39m\u001b[38;5;124m\"\u001b[39m \u001b[38;5;241m%\u001b[39m (y_type, average_options)\n\u001b[0;32m   1368\u001b[0m         )\n\u001b[0;32m   1369\u001b[0m \u001b[38;5;28;01melif\u001b[39;00m pos_label \u001b[38;5;129;01mnot\u001b[39;00m \u001b[38;5;129;01min\u001b[39;00m (\u001b[38;5;28;01mNone\u001b[39;00m, \u001b[38;5;241m1\u001b[39m):\n\u001b[0;32m   1370\u001b[0m     warnings\u001b[38;5;241m.\u001b[39mwarn(\n\u001b[0;32m   1371\u001b[0m         \u001b[38;5;124m\"\u001b[39m\u001b[38;5;124mNote that pos_label (set to \u001b[39m\u001b[38;5;132;01m%r\u001b[39;00m\u001b[38;5;124m) is ignored when \u001b[39m\u001b[38;5;124m\"\u001b[39m\n\u001b[0;32m   1372\u001b[0m         \u001b[38;5;124m\"\u001b[39m\u001b[38;5;124maverage != \u001b[39m\u001b[38;5;124m'\u001b[39m\u001b[38;5;124mbinary\u001b[39m\u001b[38;5;124m'\u001b[39m\u001b[38;5;124m (got \u001b[39m\u001b[38;5;132;01m%r\u001b[39;00m\u001b[38;5;124m). You may use \u001b[39m\u001b[38;5;124m\"\u001b[39m\n\u001b[1;32m   (...)\u001b[0m\n\u001b[0;32m   1375\u001b[0m         \u001b[38;5;167;01mUserWarning\u001b[39;00m,\n\u001b[0;32m   1376\u001b[0m     )\n",
      "\u001b[1;31mValueError\u001b[0m: Target is multiclass but average='binary'. Please choose another average setting, one of [None, 'micro', 'macro', 'weighted']."
     ]
    }
   ],
   "source": [
    "from sklearn.metrics import accuracy_score, precision_score, recall_score, confusion_matrix\n",
    "from sklearn.metrics import plot_confusion_matrix\n",
    "\n",
    "X_train, X_test, y_train, y_test = train_test_split(X, y, test_size=0.30, random_state=11)\n",
    "\n",
    "# Bear in mind that sklearn uses a different function for decission trees used for \n",
    "# classification ( to predict a categorical feature ): DecisionTreeClassifier() \n",
    "model = DecisionTreeClassifier(max_depth=3)\n",
    "\n",
    "model.fit(X_train, y_train)\n",
    "\n",
    "y_pred_train_dt = model.predict(X_train)\n",
    "y_pred_test_dt = model.predict(X_test)\n",
    "\n",
    "\n",
    "performance_df = pd.DataFrame({'Error_metric': ['Accuracy','Precision','Recall'],\n",
    "                               'Train': [accuracy_score(y_train, y_pred_train_dt),\n",
    "                                         precision_score(y_train, y_pred_train_dt),\n",
    "                                         recall_score(y_train, y_pred_train_dt)],\n",
    "                               'Test': [accuracy_score(y_test, y_pred_test_dt),\n",
    "                                        precision_score(y_test, y_pred_test_dt),\n",
    "                                        recall_score(y_test, y_pred_test_dt)]})\n",
    "\n",
    "display(performance_df)\n",
    "\n",
    "fig, ax = plt.subplots(1,2, figsize=(14,8))\n",
    "\n",
    "\n",
    "#print(\"Confusion matrix for the train set\")\n",
    "#print(confusion_matrix(y_train,y_pred_train_dt).T)\n",
    "plot_confusion_matrix(model,X_train,y_train,ax=ax[0], values_format = 'd')\n",
    "ax[0].title.set_text(\"Train Set\")\n",
    "\n",
    "#print(\"Confusion matrix for the test set\")\n",
    "\n",
    "#print(confusion_matrix(y_test,y_pred_test_dt).T)\n",
    "plot_confusion_matrix(model,X_test,y_test,ax=ax[1],values_format = 'd')\n",
    "ax[1].title.set_text(\"Test Set\")"
   ]
  },
  {
   "cell_type": "code",
   "execution_count": null,
   "id": "88085717",
   "metadata": {},
   "outputs": [],
   "source": []
  },
  {
   "cell_type": "code",
   "execution_count": null,
   "id": "68e95e6d",
   "metadata": {},
   "outputs": [],
   "source": []
  },
  {
   "cell_type": "code",
   "execution_count": null,
   "id": "53534e39",
   "metadata": {},
   "outputs": [],
   "source": []
  },
  {
   "cell_type": "code",
   "execution_count": null,
   "id": "17d2850b",
   "metadata": {},
   "outputs": [],
   "source": []
  },
  {
   "cell_type": "markdown",
   "id": "18537cb4",
   "metadata": {},
   "source": [
    "## Model Evaluation"
   ]
  },
  {
   "cell_type": "code",
   "execution_count": null,
   "id": "c1702313",
   "metadata": {},
   "outputs": [],
   "source": [
    "y_pred = model.predict(X_test)\n",
    "print(mean_squared_error(y_test,y_pred))"
   ]
  },
  {
   "cell_type": "markdown",
   "id": "ff6cd309",
   "metadata": {},
   "source": [
    "### OLS"
   ]
  },
  {
   "cell_type": "code",
   "execution_count": null,
   "id": "3c4bb18d",
   "metadata": {},
   "outputs": [],
   "source": [
    "import statsmodels.api as sm\n",
    "X_train_const_ct = sm.add_constant(X_train.to_numpy()) \n",
    "\n",
    "model = sm.OLS(y_train, X_train_const_ct).fit()\n",
    "predictions_train = model.predict(X_train_const_ct)\n",
    "\n",
    "X_test_const_ct = sm.add_constant(X_test) \n",
    "predictions_test = model.predict(X_test_const_ct)\n",
    "print_model = model.summary()\n",
    "print(print_model)"
   ]
  },
  {
   "cell_type": "code",
   "execution_count": null,
   "id": "9a03a176",
   "metadata": {},
   "outputs": [],
   "source": []
  }
 ],
 "metadata": {
  "kernelspec": {
   "display_name": "Python 3 (ipykernel)",
   "language": "python",
   "name": "python3"
  },
  "language_info": {
   "codemirror_mode": {
    "name": "ipython",
    "version": 3
   },
   "file_extension": ".py",
   "mimetype": "text/x-python",
   "name": "python",
   "nbconvert_exporter": "python",
   "pygments_lexer": "ipython3",
   "version": "3.9.12"
  }
 },
 "nbformat": 4,
 "nbformat_minor": 5
}
